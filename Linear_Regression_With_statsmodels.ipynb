{
  "nbformat": 4,
  "nbformat_minor": 0,
  "metadata": {
    "colab": {
      "name": "Linear Regression With statsmodels.ipynb",
      "provenance": [],
      "authorship_tag": "ABX9TyNlbT7ysQb/Q+tjJdxma5Pl",
      "include_colab_link": true
    },
    "kernelspec": {
      "name": "python3",
      "display_name": "Python 3"
    },
    "language_info": {
      "name": "python"
    }
  },
  "cells": [
    {
      "cell_type": "markdown",
      "metadata": {
        "id": "view-in-github",
        "colab_type": "text"
      },
      "source": [
        "<a href=\"https://colab.research.google.com/github/zhensongren/learn-ml/blob/master/Linear_Regression_With_statsmodels.ipynb\" target=\"_parent\"><img src=\"https://colab.research.google.com/assets/colab-badge.svg\" alt=\"Open In Colab\"/></a>"
      ]
    },
    {
      "cell_type": "code",
      "execution_count": 5,
      "metadata": {
        "id": "V5uWwseHeEAY"
      },
      "outputs": [],
      "source": [
        "import numpy as np\n",
        "import statsmodels.api as sm\n",
        "from sklearn.datasets import make_regression\n"
      ]
    },
    {
      "cell_type": "code",
      "source": [
        "X, y = make_regression(n_samples=1000, n_features=10, n_informative=5, n_targets=1, random_state=1, noise=0.5)\n",
        "X = sm.add_constant(X)\n",
        "X"
      ],
      "metadata": {
        "colab": {
          "base_uri": "https://localhost:8080/"
        },
        "id": "_9-1ffcKeVsK",
        "outputId": "fd40e583-8143-4cb6-afcb-b3ff4345af0b"
      },
      "execution_count": 6,
      "outputs": [
        {
          "output_type": "execute_result",
          "data": {
            "text/plain": [
              "array([[ 1.        ,  0.6998327 , -1.75111321, ...,  0.21283107,\n",
              "        -1.03617381,  0.53414308],\n",
              "       [ 1.        , -0.78686826,  0.15132117, ..., -0.00223836,\n",
              "        -0.80060285,  0.8918484 ],\n",
              "       [ 1.        , -0.40701313, -0.21250762, ..., -0.33385612,\n",
              "        -0.68371333, -1.16814212],\n",
              "       ...,\n",
              "       [ 1.        , -0.06591537, -1.83031926, ..., -1.08053201,\n",
              "        -0.85666079,  0.21153522],\n",
              "       [ 1.        , -0.40175881,  0.80529499, ...,  0.36311821,\n",
              "         0.41916061, -0.61490767],\n",
              "       [ 1.        , -0.79153377, -0.62253745, ...,  1.99220474,\n",
              "        -0.2624677 ,  0.18116909]])"
            ]
          },
          "metadata": {},
          "execution_count": 6
        }
      ]
    },
    {
      "cell_type": "code",
      "source": [
        "model = sm.OLS(y, X)\n",
        "results = model.fit()\n",
        "print(results.summary())"
      ],
      "metadata": {
        "colab": {
          "base_uri": "https://localhost:8080/"
        },
        "id": "iClf8s1oeZFm",
        "outputId": "15576469-5f6e-44ea-cc91-8e7a00c55c39"
      },
      "execution_count": 10,
      "outputs": [
        {
          "output_type": "stream",
          "name": "stdout",
          "text": [
            "                            OLS Regression Results                            \n",
            "==============================================================================\n",
            "Dep. Variable:                      y   R-squared:                       1.000\n",
            "Model:                            OLS   Adj. R-squared:                  1.000\n",
            "Method:                 Least Squares   F-statistic:                 6.898e+06\n",
            "Date:                Thu, 28 Apr 2022   Prob (F-statistic):               0.00\n",
            "Time:                        04:46:35   Log-Likelihood:                -711.44\n",
            "No. Observations:                1000   AIC:                             1445.\n",
            "Df Residuals:                     989   BIC:                             1499.\n",
            "Df Model:                          10                                         \n",
            "Covariance Type:            nonrobust                                         \n",
            "==============================================================================\n",
            "                 coef    std err          t      P>|t|      [0.025      0.975]\n",
            "------------------------------------------------------------------------------\n",
            "const          0.0120      0.016      0.761      0.447      -0.019       0.043\n",
            "x1            -0.0064      0.016     -0.398      0.691      -0.038       0.025\n",
            "x2            26.7469      0.016   1695.829      0.000      26.716      26.778\n",
            "x3             3.2853      0.016    202.245      0.000       3.253       3.317\n",
            "x4            -0.0160      0.016     -1.013      0.311      -0.047       0.015\n",
            "x5             0.0248      0.016      1.599      0.110      -0.006       0.055\n",
            "x6            86.5046      0.016   5444.849      0.000      86.473      86.536\n",
            "x7             0.0123      0.016      0.773      0.440      -0.019       0.043\n",
            "x8             0.0102      0.016      0.648      0.517      -0.021       0.041\n",
            "x9            93.2883      0.015   6019.534      0.000      93.258      93.319\n",
            "x10           12.4357      0.015    803.565      0.000      12.405      12.466\n",
            "==============================================================================\n",
            "Omnibus:                        1.085   Durbin-Watson:                   2.051\n",
            "Prob(Omnibus):                  0.581   Jarque-Bera (JB):                0.951\n",
            "Skew:                           0.048   Prob(JB):                        0.622\n",
            "Kurtosis:                       3.117   Cond. No.                         1.22\n",
            "==============================================================================\n",
            "\n",
            "Warnings:\n",
            "[1] Standard Errors assume that the covariance matrix of the errors is correctly specified.\n"
          ]
        }
      ]
    },
    {
      "cell_type": "code",
      "source": [
        "x_new = sm.add_constant(np.arange(11).reshape((-1, 11)))\n",
        "print(x_new)\n",
        "y_new = results.predict(x_new)\n",
        "print(y_new)"
      ],
      "metadata": {
        "colab": {
          "base_uri": "https://localhost:8080/"
        },
        "id": "0ATLAUMrfXAL",
        "outputId": "b81b7dfd-a266-413d-f5c4-e45978fc1d06"
      },
      "execution_count": 15,
      "outputs": [
        {
          "output_type": "stream",
          "name": "stdout",
          "text": [
            "[[ 0  1  2  3  4  5  6  7  8  9 10]]\n",
            "[1546.54944629]\n"
          ]
        }
      ]
    },
    {
      "cell_type": "code",
      "source": [
        ""
      ],
      "metadata": {
        "id": "DIVqQy6Pgpev"
      },
      "execution_count": null,
      "outputs": []
    }
  ]
}