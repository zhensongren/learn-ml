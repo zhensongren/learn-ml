{
 "cells": [
  {
   "cell_type": "code",
   "execution_count": 11,
   "metadata": {},
   "outputs": [],
   "source": [
    "import os\n",
    "import numpy as np\n",
    "import scipy\n",
    "import matplotlib.pyplot as plt\n",
    "%matplotlib inline\n",
    "\n",
    "# Where to save the figures\n",
    "PROJECT_ROOT_DIR = \"./\"\n",
    "CHAPTER_ID = \"training_linear_models\"\n",
    "\n",
    "def save_fig(fig_id, tight_layout=True):\n",
    "    path = os.path.join(PROJECT_ROOT_DIR, \"images\", CHAPTER_ID, fig_id + \".png\")\n",
    "    print(\"Saving figure\", fig_id)\n",
    "    if tight_layout:\n",
    "        plt.tight_layout()\n",
    "    plt.savefig(path, format='png', dpi=300)"
   ]
  },
  {
   "cell_type": "code",
   "execution_count": 2,
   "metadata": {},
   "outputs": [],
   "source": [
    "\n",
    "X = 2 * np.random.rand(100, 1)\n",
    "y = 4 + 3 * X + np.random.randn(100, 1)"
   ]
  },
  {
   "cell_type": "code",
   "execution_count": 3,
   "metadata": {},
   "outputs": [
    {
     "name": "stdout",
     "output_type": "stream",
     "text": [
      "Saving figure generated_data_plot\n"
     ]
    },
    {
     "data": {
      "image/png": "[encoded data removed]",
      "text/plain": [
       "<Figure size 432x288 with 1 Axes>"
      ]
     },
     "metadata": {
      "needs_background": "light"
     },
     "output_type": "display_data"
    }
   ],
   "source": [
    "plt.plot(X, y, \"b.\")\n",
    "plt.xlabel(\"$x_1$\", fontsize=18)\n",
    "plt.ylabel(\"$y$\", rotation=0, fontsize=18)\n",
    "plt.axis([0, 2, 0, 15])\n",
    "save_fig(\"generated_data_plot\")\n",
    "plt.show()"
   ]
  },
  {
   "cell_type": "code",
   "execution_count": 9,
   "metadata": {},
   "outputs": [
    {
     "data": {
      "text/plain": [
       "array([[4.01532801],\n",
       "       [2.8834512 ]])"
      ]
     },
     "execution_count": 9,
     "metadata": {},
     "output_type": "execute_result"
    }
   ],
   "source": [
    "# Sovle the normal equation\n",
    "X_b = np.c_[np.ones((100, 1)), X]  # add x0 = 1 to each instance\n",
    "theta_best = np.linalg.inv(X_b.T.dot(X_b)).dot(X_b.T).dot(y)\n",
    "theta_best"
   ]
  },
  {
   "cell_type": "code",
   "execution_count": 5,
   "metadata": {},
   "outputs": [
    {
     "data": {
      "text/plain": [
       "array([[5.98722761],\n",
       "       [7.66659315],\n",
       "       [8.79438887],\n",
       "       [8.32745048],\n",
       "       [9.25252872],\n",
       "       [7.49833174],\n",
       "       [8.97581289],\n",
       "       [6.29904481],\n",
       "       [9.06890809],\n",
       "       [4.25213867],\n",
       "       [6.98437904],\n",
       "       [8.88081727],\n",
       "       [6.92614988],\n",
       "       [4.09134475],\n",
       "       [6.56559554],\n",
       "       [8.00286659],\n",
       "       [6.41177776],\n",
       "       [5.08965262],\n",
       "       [5.13613342],\n",
       "       [9.75667227],\n",
       "       [4.85269112],\n",
       "       [9.72634522],\n",
       "       [7.82585234],\n",
       "       [6.33454651],\n",
       "       [5.59346317],\n",
       "       [7.71033359],\n",
       "       [7.51188537],\n",
       "       [5.04268956],\n",
       "       [9.65714482],\n",
       "       [5.99070209],\n",
       "       [8.82969785],\n",
       "       [5.88767236],\n",
       "       [7.96433385],\n",
       "       [8.95634813],\n",
       "       [5.25047588],\n",
       "       [6.23321701],\n",
       "       [7.5455359 ],\n",
       "       [8.31949684],\n",
       "       [5.44771109],\n",
       "       [6.84641208],\n",
       "       [6.83032717],\n",
       "       [4.16365176],\n",
       "       [8.1631078 ],\n",
       "       [6.65223898],\n",
       "       [8.61897507],\n",
       "       [7.41944366],\n",
       "       [9.54194781],\n",
       "       [7.07251969],\n",
       "       [9.52880183],\n",
       "       [6.59878883],\n",
       "       [4.51098384],\n",
       "       [4.34434842],\n",
       "       [6.33081837],\n",
       "       [7.79060065],\n",
       "       [6.00727764],\n",
       "       [8.99282415],\n",
       "       [6.62049984],\n",
       "       [4.81738577],\n",
       "       [4.12206641],\n",
       "       [8.96765852],\n",
       "       [8.25831016],\n",
       "       [4.21564772],\n",
       "       [6.25943809],\n",
       "       [9.7416121 ],\n",
       "       [8.19237878],\n",
       "       [4.85103878],\n",
       "       [5.27464742],\n",
       "       [5.40597297],\n",
       "       [4.7114573 ],\n",
       "       [6.48327336],\n",
       "       [5.99045287],\n",
       "       [5.81604378],\n",
       "       [6.27586596],\n",
       "       [5.51202753],\n",
       "       [7.72041294],\n",
       "       [7.61829209],\n",
       "       [8.69844324],\n",
       "       [7.20734325],\n",
       "       [4.90900597],\n",
       "       [9.62283218],\n",
       "       [8.45329039],\n",
       "       [6.37670821],\n",
       "       [5.80882003],\n",
       "       [6.0528237 ],\n",
       "       [9.29822001],\n",
       "       [6.22174723],\n",
       "       [5.21687736],\n",
       "       [8.73068386],\n",
       "       [5.0707305 ],\n",
       "       [8.37431802],\n",
       "       [8.51203817],\n",
       "       [8.08200346],\n",
       "       [6.52110164],\n",
       "       [7.64193076],\n",
       "       [9.03738071],\n",
       "       [6.27948506],\n",
       "       [5.89023262],\n",
       "       [6.25938578],\n",
       "       [7.28450027],\n",
       "       [9.52024248]])"
      ]
     },
     "execution_count": 5,
     "metadata": {},
     "output_type": "execute_result"
    }
   ],
   "source": [
    "# predict the y using X\n",
    "X_new = X\n",
    "X_new_b = np.c_[np.ones((len(X), 1)), X_new]  # add x0 = 1 to each instance\n",
    "y_predict = X_new_b.dot(theta_best)\n",
    "y_predict"
   ]
  },
  {
   "cell_type": "code",
   "execution_count": 6,
   "metadata": {},
   "outputs": [
    {
     "name": "stdout",
     "output_type": "stream",
     "text": [
      "Saving figure linear_model_predictions\n"
     ]
    },
    {
     "data": {
      "image/png": "[encoded data removed]",
      "text/plain": [
       "<Figure size 576x360 with 1 Axes>"
      ]
     },
     "metadata": {
      "needs_background": "light"
     },
     "output_type": "display_data"
    }
   ],
   "source": [
    "plt.figure(figsize=(8,5))\n",
    "plt.plot(X_new, y_predict, \"ro\", label=\"linear model predictions\")\n",
    "plt.plot(X, y, \"b.\", label=\"raw data\")\n",
    "plt.xlabel(\"$x_1$\", fontsize=18)\n",
    "plt.ylabel(\"$y$\", rotation=0, fontsize=18)\n",
    "plt.legend(loc=\"upper left\", fontsize=14)\n",
    "save_fig(\"linear_model_predictions\")\n",
    "plt.show()"
   ]
  },
  {
   "cell_type": "markdown",
   "metadata": {},
   "source": [
    "## Do the same thing using sklearn, scipy, numpy, etc."
   ]
  },
  {
   "cell_type": "code",
   "execution_count": 8,
   "metadata": {
    "jupyter": {
     "source_hidden": true
    }
   },
   "outputs": [
    {
     "data": {
      "text/plain": [
       "(array([4.01532801]), array([[2.8834512]]))"
      ]
     },
     "execution_count": 8,
     "metadata": {},
     "output_type": "execute_result"
    }
   ],
   "source": [
    "from sklearn.linear_model import LinearRegression\n",
    "lin_reg = LinearRegression()\n",
    "lin_reg.fit(X, y)\n",
    "lin_reg.intercept_, lin_reg.coef_"
   ]
  },
  {
   "cell_type": "code",
   "execution_count": 13,
   "metadata": {},
   "outputs": [
    {
     "data": {
      "text/plain": [
       "array([[4.01532801],\n",
       "       [2.8834512 ]])"
      ]
     },
     "execution_count": 13,
     "metadata": {},
     "output_type": "execute_result"
    }
   ],
   "source": [
    "theta_best_svd, residuals, rank, s = scipy.linalg.lstsq(X_b, y)\n",
    "theta_best_svd"
   ]
  },
  {
   "cell_type": "code",
   "execution_count": 14,
   "metadata": {},
   "outputs": [
    {
     "data": {
      "text/plain": [
       "array([[4.01532801],\n",
       "       [2.8834512 ]])"
      ]
     },
     "execution_count": 14,
     "metadata": {},
     "output_type": "execute_result"
    }
   ],
   "source": [
    "theta_best_svd, residuals, rank, s = np.linalg.lstsq(X_b, y, rcond=1e-6)\n",
    "theta_best_svd"
   ]
  },
  {
   "cell_type": "code",
   "execution_count": null,
   "metadata": {},
   "outputs": [],
   "source": []
  }
 ],
 "metadata": {
  "kernelspec": {
   "display_name": "Python 3",
   "language": "python",
   "name": "python3"
  },
  "language_info": {
   "codemirror_mode": {
    "name": "ipython",
    "version": 3
   },
   "file_extension": ".py",
   "mimetype": "text/x-python",
   "name": "python",
   "nbconvert_exporter": "python",
   "pygments_lexer": "ipython3",
   "version": "3.8.3"
  }
 },
 "nbformat": 4,
 "nbformat_minor": 4
}
