{
  "cells": [
    {
      "cell_type": "markdown",
      "metadata": {
        "id": "view-in-github",
        "colab_type": "text"
      },
      "source": [
        "<a href=\"https://colab.research.google.com/github/zhensongren/learn-ml/blob/master/Bias_Variance_decomp.ipynb\" target=\"_parent\"><img src=\"https://colab.research.google.com/assets/colab-badge.svg\" alt=\"Open In Colab\"/></a>"
      ]
    },
    {
      "cell_type": "code",
      "execution_count": null,
      "metadata": {
        "id": "sJoW-JP4CaId"
      },
      "outputs": [],
      "source": [
        "from mlxtend.evaluate import bias_variance_decomp\n",
        "from sklearn.tree import DecisionTreeRegressor\n",
        "from sklearn.model_selection import train_test_split\n",
        "from sklearn.ensemble import RandomForestRegressor\n",
        "from mlxtend.data import boston_housing_data\n",
        "import pandas as pd\n",
        "import matplotlib.pyplot as plt\n",
        "import numpy as np\n",
        "from sklearn.linear_model import LinearRegression, Lasso\n",
        "from sklearn.neighbors import KNeighborsRegressor\n",
        "import warnings\n",
        "warnings.filterwarnings('ignore') "
      ]
    },
    {
      "cell_type": "code",
      "execution_count": null,
      "metadata": {
        "id": "c3jBvKoUCaIh"
      },
      "outputs": [],
      "source": [
        "def get_bias_var(tree, X_train, y_train, X_test, y_test, loss_type):\n",
        "    avg_expected_loss, avg_bias, avg_var = bias_variance_decomp(tree, X_train, y_train, X_test, y_test, loss=loss_type, random_seed=123)\n",
        "\n",
        "    print('Average expected loss: %.3f' % avg_expected_loss)\n",
        "    print('Average bias: %.3f' % avg_bias)\n",
        "    print('Average variance: %.3f' % avg_var)\n",
        "    return"
      ]
    },
    {
      "cell_type": "markdown",
      "metadata": {
        "id": "UPSKQtzwCaIh"
      },
      "source": [
        "### Pruning DT reduces the variance"
      ]
    },
    {
      "cell_type": "code",
      "execution_count": null,
      "metadata": {
        "id": "4NFWREK5CaIj",
        "outputId": "7f1d9bc1-b99c-4e89-c590-3fab312a3089"
      },
      "outputs": [
        {
          "name": "stdout",
          "output_type": "stream",
          "text": [
            "variance Reduction: -62.01%\n",
            "At the expense of introducing bias: 118.32%\n"
          ]
        }
      ],
      "source": [
        "X, y = boston_housing_data()\n",
        "X_train, X_test, y_train, y_test = train_test_split(X, y, test_size=0.3, random_state=123, shuffle=True)\n",
        "tree = DecisionTreeRegressor(random_state=123)\n",
        "error_dt, bias_dt, var_dt = bias_variance_decomp(tree, X_train, y_train, X_test, y_test,'mse', random_seed=123)\n",
        "\n",
        "tree_pruned = DecisionTreeRegressor(random_state=123, max_depth=2)\n",
        "error_dt_pruned, bias_dt_pruned, var_dt_pruned = bias_variance_decomp(tree_pruned, X_train, y_train, X_test, y_test,'mse', random_seed=123)\n",
        "\n",
        "print(\"variance Reduction:\", str(np.round((var_dt_pruned/var_dt-1)*100,2)) + '%')\n",
        "print(\"At the expense of introducing bias:\", str(np.round((bias_dt_pruned/bias_dt-1)*100, 2)) + '%')"
      ]
    },
    {
      "cell_type": "markdown",
      "metadata": {
        "id": "cWmN5C5yCaIl"
      },
      "source": [
        "### Using Ensemble/Random Forest to reduce variance"
      ]
    },
    {
      "cell_type": "code",
      "execution_count": null,
      "metadata": {
        "id": "DpSy2m3VCaIm",
        "outputId": "55880813-74b2-49a4-dac2-24473c00a60d"
      },
      "outputs": [
        {
          "name": "stdout",
          "output_type": "stream",
          "text": [
            "variance Reduction: -82.29%\n",
            "At the expense of introducing bias: 10.73%\n"
          ]
        }
      ],
      "source": [
        "tree = DecisionTreeRegressor(random_state=123)\n",
        "error_dt, bias_dt, var_dt = bias_variance_decomp(tree, X_train, y_train, X_test, y_test,'mse', random_seed=123)\n",
        "\n",
        "tree_rf = RandomForestRegressor(random_state=123)\n",
        "error_rf, bias_rf, var_rf = bias_variance_decomp(tree_rf, X_train, y_train, X_test, y_test,'mse', random_seed=123)\n",
        "\n",
        "print(\"variance Reduction:\", str(np.round((var_rf/var_dt-1)*100,2))+ '%')\n",
        "print(\"At the expense of introducing bias:\", str(np.round((bias_rf/bias_dt-1)*100, 2)) + '%')"
      ]
    },
    {
      "cell_type": "markdown",
      "metadata": {
        "id": "uG2xo6RCCaIm"
      },
      "source": [
        "### KNN -- a high value of k leads to high bias and low variance"
      ]
    },
    {
      "cell_type": "code",
      "execution_count": null,
      "metadata": {
        "id": "co-fEj9ZCaIn",
        "outputId": "d5ac71ac-fa3e-4b65-8a83-4a334edb9e37"
      },
      "outputs": [
        {
          "name": "stdout",
          "output_type": "stream",
          "text": [
            "(354, 13)\n",
            " KNN with neighbor: 1\n",
            " KNN with neighbor: 2\n",
            " KNN with neighbor: 3\n",
            " KNN with neighbor: 4\n",
            " KNN with neighbor: 5\n",
            " KNN with neighbor: 6\n",
            " KNN with neighbor: 7\n",
            " KNN with neighbor: 8\n",
            " KNN with neighbor: 9\n",
            " KNN with neighbor: 10\n",
            " KNN with neighbor: 11\n",
            " KNN with neighbor: 12\n",
            " KNN with neighbor: 13\n",
            " KNN with neighbor: 14\n"
          ]
        },
        {
          "data": {
            "text/plain": [
              "<matplotlib.legend.Legend at 0x1eca7ee1d68>"
            ]
          },
          "execution_count": 7,
          "metadata": {},
          "output_type": "execute_result"
        },
        {
          "data": {
            "image/png": "[encoded data removed]",
            "text/plain": [
              "<Figure size 432x288 with 1 Axes>"
            ]
          },
          "metadata": {},
          "output_type": "display_data"
        }
      ],
      "source": [
        "bias_knn, var_knn, error_knn = [], [], []\n",
        "for k in range(1, 15):\n",
        "    clf_knn = KNeighborsRegressor(n_neighbors=k)\n",
        "    avg_expected_loss, avg_bias, avg_var  = avg_expected_loss, avg_bias, avg_var = bias_variance_decomp(clf_knn, X_train, y_train, X_test, y_test, loss='mse', random_seed=123)\n",
        "    bias_knn.append(avg_bias)\n",
        "    var_knn.append(avg_var)\n",
        "    error_knn.append(avg_expected_loss)\n",
        "plt.plot(range(1,15), error_knn, 'b', label = 'total_error')\n",
        "plt.plot(range(1,15), bias_knn, 'k', label = 'bias')\n",
        "plt.plot(range(1,15), var_knn, 'y', label = 'variance')\n",
        "plt.legend()"
      ]
    },
    {
      "cell_type": "markdown",
      "metadata": {
        "id": "1L2FeCFkCaIo"
      },
      "source": [
        "### Adding features bring down the bias"
      ]
    },
    {
      "cell_type": "code",
      "execution_count": null,
      "metadata": {
        "id": "kk4PNHYcCaIo",
        "outputId": "ffd139de-1a27-4629-fdde-726ad0ea2c37"
      },
      "outputs": [
        {
          "name": "stdout",
          "output_type": "stream",
          "text": [
            "Shape of the data: (354, 13)\n",
            "0.9539773945768115\n"
          ]
        },
        {
          "data": {
            "text/plain": [
              "<matplotlib.legend.Legend at 0x1ecaa059518>"
            ]
          },
          "execution_count": 8,
          "metadata": {},
          "output_type": "execute_result"
        },
        {
          "data": {
            "image/png": "[encoded data removed]",
            "text/plain": [
              "<Figure size 432x288 with 1 Axes>"
            ]
          },
          "metadata": {},
          "output_type": "display_data"
        }
      ],
      "source": [
        "tree = DecisionTreeRegressor(random_state=123)\n",
        "tree.fit(X_train, y_train)\n",
        "feat_array = tree.feature_importances_\n",
        "\n",
        "df_feat = pd.DataFrame()\n",
        "name_list, importance_list = [], []\n",
        "for name, importance in zip(range(X_train.shape[1]), feat_array):\n",
        "    name_list.append(name)\n",
        "    importance_list.append(importance)\n",
        "df_feat['name'] = name_list\n",
        "df_feat['importance'] = importance_list\n",
        "\n",
        "print(\"Top 6 features controbute 95% of total feature importance:\", df_feat.sort_values(by = 'importance', ascending = False).head(6)['importance'].sum())\n",
        "\n",
        "error_fs, bias_fs, var_fs  = [], [], []\n",
        "feat_count = [2,3,4,5,6,7,8,9,10,11,12]\n",
        "for feat in feat_count:\n",
        "    top_feat = df_feat.sort_values(by = 'importance', ascending = False).head(feat)['name'].values\n",
        "    X_train_fs = X_train[:, top_feat]\n",
        "    X_test_fs = X_test[:, top_feat]\n",
        "    avg_expected_loss, avg_bias, avg_var = bias_variance_decomp(tree, X_train_fs, y_train, X_test_fs, y_test, loss='mse', random_seed=123)\n",
        "    error_fs.append(avg_expected_loss)\n",
        "    bias_fs.append(avg_bias)\n",
        "    var_fs.append(avg_var)\n",
        "    \n",
        "plt.plot(feat_count, error_fs, 'b', label = 'total_error')\n",
        "plt.plot(feat_count, bias_fs, 'k', label = 'bias')\n",
        "plt.plot(feat_count, var_fs, 'y', label = 'variance')\n",
        "plt.legend()"
      ]
    },
    {
      "cell_type": "markdown",
      "metadata": {
        "id": "HgaNVwiXCaIp"
      },
      "source": [
        "### Regularization to control the variance"
      ]
    },
    {
      "cell_type": "code",
      "execution_count": null,
      "metadata": {
        "id": "Aa-c7oUvCaIq",
        "outputId": "3939117e-565c-4345-d9bc-7ab36e45c753"
      },
      "outputs": [
        {
          "name": "stdout",
          "output_type": "stream",
          "text": [
            "variance Reduction: -7.535566550212058\n",
            "At the expense of introducing bias: 5.873928913671511\n"
          ]
        }
      ],
      "source": [
        "linear_model = LinearRegression()\n",
        "lasso_model = Lasso(alpha=0.05)\n",
        "error_reg, bias_reg, var_reg = bias_variance_decomp(lasso_model, X_train, y_train, X_test, y_test, loss='mse', random_seed=123)\n",
        "error_no_reg, bias_no_reg, var_no_reg = bias_variance_decomp(linear_model, X_train, y_train, X_test, y_test, loss='mse', random_seed=123)\n",
        "print(\"variance Reduction:\", (var_reg/var_no_reg-1)*100)\n",
        "print(\"At the expense of introducing bias:\", (bias_reg/bias_no_reg-1)*100)"
      ]
    },
    {
      "cell_type": "code",
      "execution_count": null,
      "metadata": {
        "id": "Bxe18YoCCaIr"
      },
      "outputs": [],
      "source": []
    }
  ],
  "metadata": {
    "kernelspec": {
      "display_name": "Python 3",
      "language": "python",
      "name": "python3"
    },
    "language_info": {
      "codemirror_mode": {
        "name": "ipython",
        "version": 3
      },
      "file_extension": ".py",
      "mimetype": "text/x-python",
      "name": "python",
      "nbconvert_exporter": "python",
      "pygments_lexer": "ipython3",
      "version": "3.6.5"
    },
    "colab": {
      "name": "Bias Variance_decomp.ipynb",
      "provenance": [],
      "include_colab_link": true
    }
  },
  "nbformat": 4,
  "nbformat_minor": 0
}