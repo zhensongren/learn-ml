{
  "nbformat": 4,
  "nbformat_minor": 0,
  "metadata": {
    "colab": {
      "provenance": [],
      "authorship_tag": "ABX9TyN5JIMMlZPiRx7s/nuxpWh0",
      "include_colab_link": true
    },
    "kernelspec": {
      "name": "python3",
      "display_name": "Python 3"
    },
    "language_info": {
      "name": "python"
    }
  },
  "cells": [
    {
      "cell_type": "markdown",
      "metadata": {
        "id": "view-in-github",
        "colab_type": "text"
      },
      "source": [
        "<a href=\"https://colab.research.google.com/github/zhensongren/learn-ml/blob/master/Bayesian_optimization.ipynb\" target=\"_parent\"><img src=\"https://colab.research.google.com/assets/colab-badge.svg\" alt=\"Open In Colab\"/></a>"
      ]
    },
    {
      "cell_type": "markdown",
      "source": [
        "# Bayesian Optimization"
      ],
      "metadata": {
        "id": "VYE7aCirvvH0"
      }
    },
    {
      "cell_type": "markdown",
      "source": [
        "## Objective function and data"
      ],
      "metadata": {
        "id": "l6hO23KrwJBN"
      }
    },
    {
      "cell_type": "code",
      "execution_count": 9,
      "metadata": {
        "colab": {
          "base_uri": "https://localhost:8080/",
          "height": 282
        },
        "id": "2nBVIc6gvhgY",
        "outputId": "437dc6ba-535c-46eb-b3f5-6df558554eab"
      },
      "outputs": [
        {
          "output_type": "stream",
          "name": "stdout",
          "text": [
            "Optima: x=0.900, y=0.810\n"
          ]
        },
        {
          "output_type": "display_data",
          "data": {
            "text/plain": [
              "<Figure size 432x288 with 1 Axes>"
            ],
            "image/png": "[encoded data removed]"
          },
          "metadata": {
            "needs_background": "light"
          }
        }
      ],
      "source": [
        "# example of the test problem\n",
        "from math import sin\n",
        "from math import pi\n",
        "from numpy import arange\n",
        "from numpy.random import normal\n",
        "from numpy import vstack\n",
        "from numpy import argmax\n",
        "from numpy import asarray\n",
        "from numpy.random import random\n",
        "from scipy.stats import norm\n",
        "from sklearn.gaussian_process import GaussianProcessRegressor\n",
        "from warnings import catch_warnings\n",
        "from warnings import simplefilter\n",
        "simplefilter(\"ignore\")\n",
        "\n",
        "from matplotlib import pyplot\n",
        "\n",
        "# objective function\n",
        "def objective(x, noise=0.1):\n",
        "\tnoise = normal(loc=0, scale=noise)\n",
        "\treturn (x**2 * sin(5 * pi * x)**6.0) + noise\n",
        "\n",
        "# grid-based sample of the domain [0,1]\n",
        "X = arange(0, 1, 0.01)\n",
        "# sample the domain without noise\n",
        "y = [objective(x, 0) for x in X]\n",
        "# sample the domain with noise\n",
        "ynoise = [objective(x) for x in X]\n",
        "# find best result\n",
        "ix = argmax(y)\n",
        "print('Optima: x=%.3f, y=%.3f' % (X[ix], y[ix]))\n",
        "# plot the points with noise\n",
        "pyplot.scatter(X, ynoise)\n",
        "# plot the points without noise\n",
        "pyplot.plot(X, y)\n",
        "# show the plot\n",
        "pyplot.show()"
      ]
    },
    {
      "cell_type": "markdown",
      "source": [
        "Surrogate model and Bayesian optimization "
      ],
      "metadata": {
        "id": "cy2XlsCpwMY-"
      }
    },
    {
      "cell_type": "code",
      "source": [
        "# fitting a Gaussian Process regression model on noisy samples\n",
        "# example of bayesian optimization for a 1d function from scratch\n",
        "\n",
        "# objective function\n",
        "def objective(x, noise=0.1):\n",
        "\tnoise = normal(loc=0, scale=noise)\n",
        "\treturn (x**2 * sin(5 * pi * x)**6.0) + noise\n",
        "\n",
        "# surrogate or approximation for the objective function\n",
        "def surrogate(model, X):\n",
        "\t# catch any warning generated when making a prediction\n",
        "\twith catch_warnings():\n",
        "\t\t# ignore generated warnings\n",
        "\t\tsimplefilter(\"ignore\")\n",
        "\t\treturn model.predict(X, return_std=True)\n",
        "\n",
        "# probability of improvement acquisition function\n",
        "def acquisition(X, Xsamples, model):\n",
        "\t# calculate the best surrogate score found so far\n",
        "\tyhat, _ = surrogate(model, X)\n",
        "\tbest = max(yhat)\n",
        "\t# calculate mean and stdev via surrogate function\n",
        "\tmu, std = surrogate(model, Xsamples)\n",
        "\tmu = mu[:, 0]\n",
        "\t# calculate the probability of improvement\n",
        "\tprobs = norm.cdf((mu - best) / (std+1E-9))\n",
        "\treturn probs\n",
        "\n",
        "# optimize the acquisition function\n",
        "def opt_acquisition(X, y, model):\n",
        "\t# random search, generate random samples\n",
        "\tXsamples = random(100)\n",
        "\tXsamples = Xsamples.reshape(len(Xsamples), 1)\n",
        "\t# calculate the acquisition function for each sample\n",
        "\tscores = acquisition(X, Xsamples, model)\n",
        "\t# locate the index of the largest scores\n",
        "\tix = argmax(scores)\n",
        "\treturn Xsamples[ix, 0]\n",
        "\n",
        "# plot real observations vs surrogate function\n",
        "def plot(X, y, model):\n",
        "\t# scatter plot of inputs and real objective function\n",
        "\tpyplot.scatter(X, y)\n",
        "\t# line plot of surrogate function across domain\n",
        "\tXsamples = asarray(arange(0, 1, 0.001))\n",
        "\tXsamples = Xsamples.reshape(len(Xsamples), 1)\n",
        "\tysamples, _ = surrogate(model, Xsamples)\n",
        "\tpyplot.plot(Xsamples, ysamples)\n",
        "\t# show the plot\n",
        "\tpyplot.show()\n",
        "\n",
        "# sample the domain sparsely with noise\n",
        "X = random(100)\n",
        "y = asarray([objective(x) for x in X])\n",
        "# reshape into rows and cols\n",
        "X = X.reshape(len(X), 1)\n",
        "y = y.reshape(len(y), 1)\n",
        "# define the model\n",
        "model = GaussianProcessRegressor()\n",
        "# fit the model\n",
        "model.fit(X, y)\n",
        "# plot before hand\n",
        "plot(X, y, model)\n",
        "# perform the optimization process\n",
        "for i in range(100):\n",
        "\t# select the next point to sample\n",
        "\tx = opt_acquisition(X, y, model)\n",
        "\t# sample the point\n",
        "\tactual = objective(x)\n",
        "\t# summarize the finding\n",
        "\test, _ = surrogate(model, [[x]])\n",
        "\tprint('>x=%.3f, f()=%3f, actual=%.3f' % (x, est, actual))\n",
        "\t# add the data to the dataset\n",
        "\tX = vstack((X, [[x]]))\n",
        "\ty = vstack((y, [[actual]]))\n",
        "\t# update the model\n",
        "\tmodel.fit(X, y)\n",
        "\n",
        "# plot all samples and the final surrogate function\n",
        "plot(X, y, model)\n",
        "# best result\n",
        "ix = argmax(y)\n",
        "print('Best Result: x=%.3f, y=%.3f' % (X[ix], y[ix]))"
      ],
      "metadata": {
        "colab": {
          "base_uri": "https://localhost:8080/",
          "height": 1000
        },
        "id": "edNkjrx4v2bc",
        "outputId": "d4d54376-fbeb-4269-e261-dde2515936fd"
      },
      "execution_count": 10,
      "outputs": [
        {
          "output_type": "display_data",
          "data": {
            "text/plain": [
              "<Figure size 432x288 with 1 Axes>"
            ],
            "image/png": "[encoded data removed]"
          },
          "metadata": {
            "needs_background": "light"
          }
        },
        {
          "output_type": "stream",
          "name": "stdout",
          "text": [
            ">x=0.905, f()=0.317793, actual=0.703\n",
            ">x=0.904, f()=0.348641, actual=0.776\n",
            ">x=0.908, f()=0.380598, actual=0.777\n",
            ">x=0.347, f()=0.036140, actual=-0.072\n",
            ">x=0.470, f()=0.091927, actual=-0.016\n",
            ">x=0.385, f()=0.041548, actual=-0.004\n",
            ">x=0.109, f()=0.013493, actual=-0.140\n",
            ">x=0.277, f()=0.021202, actual=0.005\n",
            ">x=0.428, f()=0.060935, actual=0.035\n",
            ">x=0.906, f()=0.406665, actual=0.887\n",
            ">x=0.939, f()=0.391467, actual=0.382\n",
            ">x=0.007, f()=-0.016272, actual=0.203\n",
            ">x=0.616, f()=0.108857, actual=-0.032\n",
            ">x=0.894, f()=0.431219, actual=0.820\n",
            ">x=0.498, f()=0.091219, actual=0.143\n",
            ">x=0.267, f()=0.020611, actual=0.069\n",
            ">x=0.493, f()=0.091843, actual=0.238\n",
            ">x=0.853, f()=0.374846, actual=0.192\n",
            ">x=0.238, f()=0.022492, actual=0.039\n",
            ">x=0.981, f()=0.090069, actual=-0.004\n",
            ">x=0.826, f()=0.298333, actual=0.002\n",
            ">x=0.045, f()=-0.018854, actual=0.047\n",
            ">x=0.972, f()=0.180288, actual=0.027\n",
            ">x=0.965, f()=0.238575, actual=0.091\n",
            ">x=0.466, f()=0.092386, actual=0.210\n",
            ">x=0.127, f()=0.011099, actual=-0.030\n",
            ">x=0.201, f()=0.021303, actual=0.066\n",
            ">x=0.527, f()=0.117678, actual=0.198\n",
            ">x=0.907, f()=0.441581, actual=0.839\n",
            ">x=0.908, f()=0.462353, actual=0.577\n",
            ">x=0.396, f()=0.061529, actual=0.039\n",
            ">x=0.260, f()=0.019281, actual=0.108\n",
            ">x=0.907, f()=0.467762, actual=0.972\n",
            ">x=0.923, f()=0.478662, actual=0.634\n",
            ">x=0.811, f()=0.265321, actual=0.087\n",
            ">x=0.290, f()=0.021040, actual=0.069\n",
            ">x=0.403, f()=0.067557, actual=0.124\n",
            ">x=0.577, f()=0.120033, actual=-0.166\n",
            ">x=0.235, f()=0.025163, actual=-0.030\n",
            ">x=0.469, f()=0.102281, actual=0.331\n",
            ">x=0.140, f()=0.014901, actual=-0.074\n",
            ">x=0.908, f()=0.497450, actual=0.668\n",
            ">x=0.365, f()=0.053463, actual=-0.025\n",
            ">x=0.098, f()=-0.003814, actual=0.062\n",
            ">x=0.455, f()=0.104934, actual=-0.029\n",
            ">x=0.910, f()=0.504416, actual=0.680\n",
            ">x=0.164, f()=0.020060, actual=-0.114\n",
            ">x=0.354, f()=0.041994, actual=-0.097\n",
            ">x=0.909, f()=0.511652, actual=0.679\n",
            ">x=0.640, f()=0.078210, actual=0.067\n",
            ">x=0.540, f()=0.118117, actual=0.026\n",
            ">x=0.908, f()=0.518215, actual=0.732\n",
            ">x=0.909, f()=0.526413, actual=0.894\n",
            ">x=0.890, f()=0.521653, actual=0.743\n",
            ">x=0.585, f()=0.099028, actual=0.168\n",
            ">x=0.291, f()=0.015120, actual=0.239\n",
            ">x=0.098, f()=-0.004020, actual=0.108\n",
            ">x=0.908, f()=0.546980, actual=0.754\n",
            ">x=0.598, f()=0.093642, actual=0.042\n",
            ">x=0.465, f()=0.105857, actual=0.030\n",
            ">x=0.432, f()=0.086179, actual=-0.109\n",
            ">x=0.930, f()=0.522855, actual=0.314\n",
            ">x=0.383, f()=0.050744, actual=-0.038\n",
            ">x=0.870, f()=0.481236, actual=0.421\n",
            ">x=0.909, f()=0.545312, actual=0.719\n",
            ">x=0.175, f()=0.025127, actual=-0.200\n",
            ">x=0.915, f()=0.547837, actual=0.760\n",
            ">x=0.908, f()=0.557170, actual=0.692\n",
            ">x=0.199, f()=0.016923, actual=0.201\n",
            ">x=0.784, f()=0.197849, actual=-0.024\n",
            ">x=0.468, f()=0.098871, actual=0.185\n",
            ">x=0.909, f()=0.560880, actual=1.015\n",
            ">x=0.373, f()=0.045078, actual=-0.045\n",
            ">x=0.477, f()=0.104541, actual=0.174\n",
            ">x=0.295, f()=0.014795, actual=0.057\n",
            ">x=0.911, f()=0.574138, actual=0.842\n",
            ">x=0.999, f()=-0.353107, actual=0.020\n",
            ">x=0.911, f()=0.575560, actual=0.783\n",
            ">x=0.706, f()=0.059832, actual=0.570\n",
            ">x=0.229, f()=0.020724, actual=-0.051\n",
            ">x=0.055, f()=-0.015762, actual=0.029\n",
            ">x=0.947, f()=0.480853, actual=0.014\n",
            ">x=0.543, f()=0.114276, actual=0.006\n",
            ">x=0.833, f()=0.373964, actual=-0.137\n",
            ">x=0.792, f()=0.218156, actual=0.024\n",
            ">x=0.622, f()=0.084190, actual=0.034\n",
            ">x=0.555, f()=0.112205, actual=-0.075\n",
            ">x=0.990, f()=-0.061344, actual=0.068\n",
            ">x=0.306, f()=0.017388, actual=0.163\n",
            ">x=0.576, f()=0.097847, actual=-0.020\n",
            ">x=0.912, f()=0.560585, actual=0.526\n",
            ">x=0.804, f()=0.249907, actual=0.011\n",
            ">x=0.727, f()=0.072567, actual=0.300\n",
            ">x=0.383, f()=0.047717, actual=0.062\n",
            ">x=0.719, f()=0.074092, actual=0.511\n",
            ">x=0.867, f()=0.471386, actual=0.283\n",
            ">x=0.906, f()=0.550001, actual=0.974\n",
            ">x=0.913, f()=0.562238, actual=0.721\n",
            ">x=0.912, f()=0.566136, actual=0.772\n",
            ">x=0.913, f()=0.570959, actual=0.621\n"
          ]
        },
        {
          "output_type": "display_data",
          "data": {
            "text/plain": [
              "<Figure size 432x288 with 1 Axes>"
            ],
            "image/png": "[encoded data removed]"
          },
          "metadata": {
            "needs_background": "light"
          }
        },
        {
          "output_type": "stream",
          "name": "stdout",
          "text": [
            "Best Result: x=0.909, y=1.015\n"
          ]
        }
      ]
    },
    {
      "cell_type": "code",
      "source": [
        "! pip install scikit-optimize\n",
        "\n",
        "# example of bayesian optimization with scikit-optimize\n",
        "from numpy import mean\n",
        "from sklearn.datasets import make_blobs\n",
        "from sklearn.model_selection import cross_val_score\n",
        "from sklearn.neighbors import KNeighborsClassifier\n",
        "from skopt.space import Integer\n",
        "from skopt.utils import use_named_args\n",
        "from skopt import gp_minimize\n",
        " \n",
        "# generate 2d classification dataset\n",
        "X, y = make_blobs(n_samples=500, centers=3, n_features=2)\n",
        "# define the model\n",
        "model = KNeighborsClassifier()\n",
        "# define the space of hyperparameters to search\n",
        "search_space = [Integer(1, 5, name='n_neighbors'), Integer(1, 2, name='p')]\n",
        " \n",
        "# define the function used to evaluate a given configuration\n",
        "@use_named_args(search_space)\n",
        "def evaluate_model(**params):\n",
        "\t# something\n",
        "\tmodel.set_params(**params)\n",
        "\t# calculate 5-fold cross validation\n",
        "\tresult = cross_val_score(model, X, y, cv=5, n_jobs=-1, scoring='accuracy')\n",
        "\t# calculate the mean of the scores\n",
        "\testimate = mean(result)\n",
        "\treturn 1.0 - estimate\n",
        " \n",
        "# perform optimization\n",
        "result = gp_minimize(evaluate_model, search_space)\n",
        "# summarizing finding:\n",
        "print('Best Accuracy: %.3f' % (1.0 - result.fun))\n",
        "print('Best Parameters: n_neighbors=%d, p=%d' % (result.x[0], result.x[1]))"
      ],
      "metadata": {
        "colab": {
          "base_uri": "https://localhost:8080/"
        },
        "id": "xUlraiZcUGHc",
        "outputId": "3c150fc1-5be9-4033-cc3d-4a67844a4ca5"
      },
      "execution_count": 11,
      "outputs": [
        {
          "output_type": "stream",
          "name": "stdout",
          "text": [
            "Looking in indexes: https://pypi.org/simple, https://us-python.pkg.dev/colab-wheels/public/simple/\n",
            "Requirement already satisfied: scikit-optimize in /usr/local/lib/python3.7/dist-packages (0.9.0)\n",
            "Requirement already satisfied: pyaml>=16.9 in /usr/local/lib/python3.7/dist-packages (from scikit-optimize) (21.10.1)\n",
            "Requirement already satisfied: scikit-learn>=0.20.0 in /usr/local/lib/python3.7/dist-packages (from scikit-optimize) (1.0.2)\n",
            "Requirement already satisfied: scipy>=0.19.1 in /usr/local/lib/python3.7/dist-packages (from scikit-optimize) (1.7.3)\n",
            "Requirement already satisfied: joblib>=0.11 in /usr/local/lib/python3.7/dist-packages (from scikit-optimize) (1.1.0)\n",
            "Requirement already satisfied: numpy>=1.13.3 in /usr/local/lib/python3.7/dist-packages (from scikit-optimize) (1.21.6)\n",
            "Requirement already satisfied: PyYAML in /usr/local/lib/python3.7/dist-packages (from pyaml>=16.9->scikit-optimize) (6.0)\n",
            "Requirement already satisfied: threadpoolctl>=2.0.0 in /usr/local/lib/python3.7/dist-packages (from scikit-learn>=0.20.0->scikit-optimize) (3.1.0)\n",
            "Best Accuracy: 0.884\n",
            "Best Parameters: n_neighbors=5, p=2\n"
          ]
        }
      ]
    }
  ]
}