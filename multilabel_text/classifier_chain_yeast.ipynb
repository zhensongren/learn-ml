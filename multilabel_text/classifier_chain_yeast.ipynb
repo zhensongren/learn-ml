{
 "cells": [
  {
   "cell_type": "markdown",
   "metadata": {},
   "source": [
    "\n",
    "# Classifier Chain\n",
    "\n",
    "Example of using classifier chain on a multilabel dataset.\n",
    "\n",
    "For this example we will use the `yeast\n",
    "<https://www.openml.org/d/40597>`_ dataset which contains\n",
    "2417 datapoints each with 103 features and 14 possible labels. Each\n",
    "data point has at least one label. As a baseline we first train a logistic\n",
    "regression classifier for each of the 14 labels. To evaluate the performance of\n",
    "these classifiers we predict on a held-out test set and calculate the\n",
    "`jaccard score <jaccard_similarity_score>` for each sample.\n",
    "\n",
    "Next we create 10 classifier chains. Each classifier chain contains a\n",
    "logistic regression model for each of the 14 labels. The models in each\n",
    "chain are ordered randomly. In addition to the 103 features in the dataset,\n",
    "each model gets the predictions of the preceding models in the chain as\n",
    "features (note that by default at training time each model gets the true\n",
    "labels as features). These additional features allow each chain to exploit\n",
    "correlations among the classes. The Jaccard similarity score for each chain\n",
    "tends to be greater than that of the set independent logistic models.\n",
    "\n",
    "Because the models in each chain are arranged randomly there is significant\n",
    "variation in performance among the chains. Presumably there is an optimal\n",
    "ordering of the classes in a chain that will yield the best performance.\n",
    "However we do not know that ordering a priori. Instead we can construct an\n",
    "voting ensemble of classifier chains by averaging the binary predictions of\n",
    "the chains and apply a threshold of 0.5. The Jaccard similarity score of the\n",
    "ensemble is greater than that of the independent models and tends to exceed\n",
    "the score of each chain in the ensemble (although this is not guaranteed\n",
    "with randomly ordered chains).\n"
   ]
  },
  {
   "cell_type": "code",
   "execution_count": 6,
   "metadata": {},
   "outputs": [],
   "source": [
    "import numpy as np\n",
    "import matplotlib.pyplot as plt\n",
    "%matplotlib inline\n",
    "from sklearn.datasets import fetch_openml\n",
    "from sklearn.multioutput import ClassifierChain\n",
    "from sklearn.model_selection import train_test_split\n",
    "from sklearn.multiclass import OneVsRestClassifier\n",
    "from sklearn.metrics import jaccard_score\n",
    "from sklearn.linear_model import LogisticRegression"
   ]
  },
  {
   "cell_type": "code",
   "execution_count": 7,
   "metadata": {},
   "outputs": [],
   "source": [
    "# Load a multi-label dataset from https://www.openml.org/d/40597\n",
    "X, Y = fetch_openml('yeast', version=4, return_X_y=True)\n",
    "Y = Y == 'TRUE'\n",
    "X_train, X_test, Y_train, Y_test = train_test_split(X, Y, test_size=.2,\n",
    "                                                    random_state=0)"
   ]
  },
  {
   "cell_type": "code",
   "execution_count": 7,
   "metadata": {},
   "outputs": [
    {
     "data": {
      "text/plain": [
       "array([[ 0.004168, -0.170975, -0.156748, ..., -0.018312,  0.030126,\n",
       "         0.124722],\n",
       "       [-0.103956,  0.011879, -0.098986, ..., -0.041471, -0.079758,\n",
       "         0.017161],\n",
       "       [ 0.509949,  0.401709,  0.293799, ...,  0.02671 , -0.066565,\n",
       "        -0.122352],\n",
       "       ...,\n",
       "       [ 0.082526, -0.095571, -0.022019, ..., -0.066957,  0.260121,\n",
       "        -0.125303],\n",
       "       [-0.13083 ,  0.008868, -0.009457, ..., -0.122332, -0.022453,\n",
       "         0.001953],\n",
       "       [-0.171578, -0.066536,  0.168206, ..., -0.083342, -0.063135,\n",
       "         0.01881 ]])"
      ]
     },
     "execution_count": 7,
     "metadata": {},
     "output_type": "execute_result"
    }
   ],
   "source": [
    "X"
   ]
  },
  {
   "cell_type": "code",
   "execution_count": 10,
   "metadata": {},
   "outputs": [
    {
     "data": {
      "text/plain": [
       "array([[ True,  True, False, ...,  True,  True, False],\n",
       "       [False,  True,  True, ..., False, False, False],\n",
       "       [False, False, False, ..., False, False, False],\n",
       "       ...,\n",
       "       [ True,  True,  True, ...,  True,  True, False],\n",
       "       [False, False,  True, ...,  True,  True, False],\n",
       "       [ True,  True,  True, ..., False, False, False]])"
      ]
     },
     "execution_count": 10,
     "metadata": {},
     "output_type": "execute_result"
    }
   ],
   "source": [
    "Y_train"
   ]
  },
  {
   "cell_type": "code",
   "execution_count": 11,
   "metadata": {},
   "outputs": [
    {
     "data": {
      "text/plain": [
       "0.47496720451265906"
      ]
     },
     "execution_count": 11,
     "metadata": {},
     "output_type": "execute_result"
    }
   ],
   "source": [
    "# Fit an independent logistic regression model for each class using the\n",
    "# OneVsRestClassifier wrapper.\n",
    "base_lr = LogisticRegression()\n",
    "ovr = OneVsRestClassifier(base_lr)\n",
    "ovr.fit(X_train, Y_train)\n",
    "Y_pred_ovr = ovr.predict(X_test)\n",
    "ovr_jaccard_score = jaccard_score(Y_test, Y_pred_ovr, average='samples'); ovr_jaccard_score"
   ]
  },
  {
   "cell_type": "code",
   "execution_count": 12,
   "metadata": {},
   "outputs": [
    {
     "data": {
      "text/plain": [
       "array([[1, 0, 0, ..., 1, 1, 0],\n",
       "       [0, 0, 1, ..., 1, 1, 0],\n",
       "       [1, 0, 0, ..., 1, 1, 0],\n",
       "       ...,\n",
       "       [0, 1, 0, ..., 1, 1, 0],\n",
       "       [0, 0, 0, ..., 1, 1, 0],\n",
       "       [1, 1, 0, ..., 1, 1, 0]])"
      ]
     },
     "execution_count": 12,
     "metadata": {},
     "output_type": "execute_result"
    }
   ],
   "source": [
    "Y_pred_ovr"
   ]
  },
  {
   "cell_type": "code",
   "execution_count": 13,
   "metadata": {},
   "outputs": [],
   "source": [
    "# Fit an ensemble of logistic regression classifier chains and take the\n",
    "chains = [ClassifierChain(base_lr, order='random', random_state=i)\n",
    "          for i in range(10)]\n",
    "for chain in chains:\n",
    "    chain.fit(X_train, Y_train)\n",
    "\n",
    "Y_pred_chains = np.array([chain.predict(X_test) for chain in\n",
    "                          chains])\n",
    "chain_jaccard_scores = [jaccard_score(Y_test, Y_pred_chain >= .5,\n",
    "                                      average='samples')\n",
    "                        for Y_pred_chain in Y_pred_chains]"
   ]
  },
  {
   "cell_type": "code",
   "execution_count": 15,
   "metadata": {},
   "outputs": [
    {
     "data": {
      "text/plain": [
       "[0.4914256198347107,\n",
       " 0.46160632296995935,\n",
       " 0.49600468975468975,\n",
       " 0.48983093926275745,\n",
       " 0.49027941755214477,\n",
       " 0.4837262828998366,\n",
       " 0.4832737051745316,\n",
       " 0.48941443657352746,\n",
       " 0.4902173297317925,\n",
       " 0.4893021120293848]"
      ]
     },
     "execution_count": 15,
     "metadata": {},
     "output_type": "execute_result"
    }
   ],
   "source": [
    "chain_jaccard_scores"
   ]
  },
  {
   "cell_type": "code",
   "execution_count": 16,
   "metadata": {},
   "outputs": [],
   "source": [
    "# take the average prediction of all the chains.\n",
    "\n",
    "Y_pred_ensemble = Y_pred_chains.mean(axis=0)\n",
    "ensemble_jaccard_score = jaccard_score(Y_test,\n",
    "                                       Y_pred_ensemble >= .5,\n",
    "                                       average='samples')"
   ]
  },
  {
   "cell_type": "code",
   "execution_count": 17,
   "metadata": {
    "collapsed": false,
    "jupyter": {
     "outputs_hidden": false
    }
   },
   "outputs": [
    {
     "data": {
      "image/png": "[encoded data removed]",
      "text/plain": [
       "<Figure size 504x288 with 1 Axes>"
      ]
     },
     "metadata": {
      "needs_background": "light"
     },
     "output_type": "display_data"
    }
   ],
   "source": [
    "model_scores = [ovr_jaccard_score] + chain_jaccard_scores\n",
    "model_scores.append(ensemble_jaccard_score)\n",
    "\n",
    "model_names = ('Independent',\n",
    "               'Chain 1',\n",
    "               'Chain 2',\n",
    "               'Chain 3',\n",
    "               'Chain 4',\n",
    "               'Chain 5',\n",
    "               'Chain 6',\n",
    "               'Chain 7',\n",
    "               'Chain 8',\n",
    "               'Chain 9',\n",
    "               'Chain 10',\n",
    "               'Ensemble')\n",
    "\n",
    "x_pos = np.arange(len(model_names))\n",
    "\n",
    "# Plot the Jaccard similarity scores for the independent model, each of the\n",
    "# chains, and the ensemble (note that the vertical axis on this plot does\n",
    "# not begin at 0).\n",
    "\n",
    "fig, ax = plt.subplots(figsize=(7, 4))\n",
    "ax.grid(True)\n",
    "ax.set_title('Classifier Chain Ensemble Performance Comparison')\n",
    "ax.set_xticks(x_pos)\n",
    "ax.set_xticklabels(model_names, rotation='vertical')\n",
    "ax.set_ylabel('Jaccard Similarity Score')\n",
    "ax.set_ylim([min(model_scores) * .9, max(model_scores) * 1.1])\n",
    "colors = ['r'] + ['b'] * len(chain_jaccard_scores) + ['g']\n",
    "ax.bar(x_pos, model_scores, alpha=0.5, color=colors)\n",
    "plt.tight_layout()\n",
    "plt.show()"
   ]
  },
  {
   "cell_type": "markdown",
   "metadata": {},
   "source": [
    "###  accuracy_score\n"
   ]
  },
  {
   "cell_type": "code",
   "execution_count": 8,
   "metadata": {},
   "outputs": [
    {
     "data": {
      "image/png": "[encoded data removed]",
      "text/plain": [
       "<Figure size 504x288 with 1 Axes>"
      ]
     },
     "metadata": {
      "needs_background": "light"
     },
     "output_type": "display_data"
    }
   ],
   "source": [
    "from sklearn.metrics import accuracy_score\n",
    "\n",
    "# Fit an independent logistic regression model for each class using the\n",
    "# OneVsRestClassifier wrapper.\n",
    "base_lr = LogisticRegression()\n",
    "ovr = OneVsRestClassifier(base_lr)\n",
    "ovr.fit(X_train, Y_train)\n",
    "Y_pred_ovr = ovr.predict(X_test)\n",
    "ovr_accuracy_score = accuracy_score(Y_test, Y_pred_ovr)\n",
    "\n",
    "# Fit an ensemble of logistic regression classifier chains and take the\n",
    "# take the average prediction of all the chains.\n",
    "chains = [ClassifierChain(base_lr, order='random', random_state=i)\n",
    "          for i in range(10)]\n",
    "for chain in chains:\n",
    "    chain.fit(X_train, Y_train)\n",
    "\n",
    "Y_pred_chains = np.array([chain.predict(X_test) for chain in\n",
    "                          chains])\n",
    "chain_accuracy_scores = [accuracy_score(Y_test, Y_pred_chain >= .5)\n",
    "                        for Y_pred_chain in Y_pred_chains]\n",
    "\n",
    "Y_pred_ensemble = Y_pred_chains.mean(axis=0)\n",
    "ensemble_accuracy_score = accuracy_score(Y_test,\n",
    "                                       Y_pred_ensemble >= .5)\n",
    "\n",
    "model_scores = [ovr_accuracy_score] + chain_accuracy_scores\n",
    "model_scores.append(ensemble_accuracy_score)\n",
    "\n",
    "model_names = ('Independent',\n",
    "               'Chain 1',\n",
    "               'Chain 2',\n",
    "               'Chain 3',\n",
    "               'Chain 4',\n",
    "               'Chain 5',\n",
    "               'Chain 6',\n",
    "               'Chain 7',\n",
    "               'Chain 8',\n",
    "               'Chain 9',\n",
    "               'Chain 10',\n",
    "               'Ensemble')\n",
    "\n",
    "x_pos = np.arange(len(model_names))\n",
    "\n",
    "# Plot the accuracy scores for the independent model, each of the\n",
    "# chains, and the ensemble (note that the vertical axis on this plot does\n",
    "# not begin at 0).\n",
    "\n",
    "fig, ax = plt.subplots(figsize=(7, 4))\n",
    "ax.grid(True)\n",
    "ax.set_title('Classifier Chain Ensemble Performance Comparison')\n",
    "ax.set_xticks(x_pos)\n",
    "ax.set_xticklabels(model_names, rotation='vertical')\n",
    "ax.set_ylabel('accuracy Score')\n",
    "ax.set_ylim([min(model_scores) * .9, max(model_scores) * 1.1])\n",
    "colors = ['r'] + ['b'] * len(chain_accuracy_scores) + ['g']\n",
    "ax.bar(x_pos, model_scores, alpha=0.5, color=colors)\n",
    "plt.tight_layout()\n",
    "plt.show()"
   ]
  },
  {
   "cell_type": "code",
   "execution_count": null,
   "metadata": {},
   "outputs": [],
   "source": []
  }
 ],
 "metadata": {
  "kernelspec": {
   "display_name": "Python 3",
   "language": "python",
   "name": "python3"
  },
  "language_info": {
   "codemirror_mode": {
    "name": "ipython",
    "version": 3
   },
   "file_extension": ".py",
   "mimetype": "text/x-python",
   "name": "python",
   "nbconvert_exporter": "python",
   "pygments_lexer": "ipython3",
   "version": "3.8.3"
  }
 },
 "nbformat": 4,
 "nbformat_minor": 4
}
