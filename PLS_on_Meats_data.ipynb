{
  "nbformat": 4,
  "nbformat_minor": 0,
  "metadata": {
    "colab": {
      "name": "PLS on Meats data.ipynb",
      "provenance": [],
      "toc_visible": true,
      "authorship_tag": "ABX9TyMuhIFGEJiH/TF6UXIltEAz",
      "include_colab_link": true
    },
    "kernelspec": {
      "name": "python3",
      "display_name": "Python 3"
    },
    "language_info": {
      "name": "python"
    }
  },
  "cells": [
    {
      "cell_type": "markdown",
      "metadata": {
        "id": "view-in-github",
        "colab_type": "text"
      },
      "source": [
        "<a href=\"https://colab.research.google.com/github/zhensongren/learn-ml/blob/master/PLS_on_Meats_data.ipynb\" target=\"_parent\"><img src=\"https://colab.research.google.com/assets/colab-badge.svg\" alt=\"Open In Colab\"/></a>"
      ]
    },
    {
      "cell_type": "markdown",
      "source": [
        "# Get data"
      ],
      "metadata": {
        "id": "4eUow_lclXcA"
      }
    },
    {
      "cell_type": "code",
      "execution_count": null,
      "metadata": {
        "colab": {
          "base_uri": "https://localhost:8080/",
          "height": 488
        },
        "id": "cyb5jDsulD7K",
        "outputId": "5294e2e3-32a9-42ea-b6ed-eec0d20a5528"
      },
      "outputs": [
        {
          "output_type": "execute_result",
          "data": {
            "text/plain": [
              "       x_001    x_002    x_003    x_004    x_005    x_006    x_007    x_008  \\\n",
              "0    2.61776  2.61814  2.61859  2.61912  2.61981  2.62071  2.62186  2.62334   \n",
              "1    2.83454  2.83871  2.84283  2.84705  2.85138  2.85587  2.86060  2.86566   \n",
              "2    2.58284  2.58458  2.58629  2.58808  2.58996  2.59192  2.59401  2.59627   \n",
              "3    2.82286  2.82460  2.82630  2.82814  2.83001  2.83192  2.83392  2.83606   \n",
              "4    2.78813  2.78989  2.79167  2.79350  2.79538  2.79746  2.79984  2.80254   \n",
              "..       ...      ...      ...      ...      ...      ...      ...      ...   \n",
              "210  3.14626  3.15166  3.15703  3.16244  3.16791  3.17348  3.17923  3.18521   \n",
              "211  2.57992  2.58040  2.58099  2.58175  2.58266  2.58381  2.58530  2.58719   \n",
              "212  2.56875  2.56923  2.56985  2.57060  2.57150  2.57268  2.57420  2.57610   \n",
              "213  2.65884  2.65943  2.66023  2.66108  2.66215  2.66360  2.66550  2.66787   \n",
              "214  2.89064  2.89244  2.89438  2.89659  2.89913  2.90211  2.90566  2.90982   \n",
              "\n",
              "       x_009    x_010  ...    x_094    x_095    x_096    x_097    x_098  \\\n",
              "0    2.62511  2.62722  ...  2.94013  2.91978  2.89966  2.87964  2.85960   \n",
              "1    2.87093  2.87661  ...  3.26655  3.25369  3.24045  3.22659  3.21181   \n",
              "2    2.59873  2.60131  ...  2.65112  2.63262  2.61461  2.59718  2.58034   \n",
              "3    2.83842  2.84097  ...  2.92576  2.90251  2.87988  2.85794  2.83672   \n",
              "4    2.80553  2.80890  ...  3.25831  3.23784  3.21765  3.19766  3.17770   \n",
              "..       ...      ...  ...      ...      ...      ...      ...      ...   \n",
              "210  3.19140  3.19792  ...  3.57915  3.56142  3.54365  3.52563  3.50705   \n",
              "211  2.58949  2.59225  ...  2.92062  2.90367  2.88668  2.86951  2.85180   \n",
              "212  2.57841  2.58129  ...  2.91592  2.89952  2.88291  2.86595  2.84836   \n",
              "213  2.67070  2.67405  ...  3.01851  3.00327  2.98759  2.97121  2.95374   \n",
              "214  2.91468  2.92031  ...  3.46234  3.44632  3.42949  3.41136  3.39146   \n",
              "\n",
              "       x_099    x_100  water   fat  protein  \n",
              "0    2.83940  2.81920   60.5  22.5     16.7  \n",
              "1    3.19600  3.17942   46.0  40.1     13.5  \n",
              "2    2.56404  2.54816   71.0   8.4     20.5  \n",
              "3    2.81617  2.79622   72.8   5.9     20.7  \n",
              "4    3.15770  3.13753   58.3  25.5     15.5  \n",
              "..       ...      ...    ...   ...      ...  \n",
              "210  3.48765  3.46769   53.4  31.3     15.3  \n",
              "211  2.83347  2.81473   51.6  33.8     13.8  \n",
              "212  2.82998  2.81111   50.3  35.5     13.2  \n",
              "213  2.93514  2.91564   44.9  42.5     12.0  \n",
              "214  3.36959  3.34622   41.0  47.8     11.6  \n",
              "\n",
              "[215 rows x 103 columns]"
            ],
            "text/html": [
              "\n",
              "  <div id=\"df-cf558fa8-9f49-4101-805d-faf4442d3c1b\">\n",
              "    <div class=\"colab-df-container\">\n",
              "      <div>\n",
              "<style scoped>\n",
              "    .dataframe tbody tr th:only-of-type {\n",
              "        vertical-align: middle;\n",
              "    }\n",
              "\n",
              "    .dataframe tbody tr th {\n",
              "        vertical-align: top;\n",
              "    }\n",
              "\n",
              "    .dataframe thead th {\n",
              "        text-align: right;\n",
              "    }\n",
              "</style>\n",
              "<table border=\"1\" class=\"dataframe\">\n",
              "  <thead>\n",
              "    <tr style=\"text-align: right;\">\n",
              "      <th></th>\n",
              "      <th>x_001</th>\n",
              "      <th>x_002</th>\n",
              "      <th>x_003</th>\n",
              "      <th>x_004</th>\n",
              "      <th>x_005</th>\n",
              "      <th>x_006</th>\n",
              "      <th>x_007</th>\n",
              "      <th>x_008</th>\n",
              "      <th>x_009</th>\n",
              "      <th>x_010</th>\n",
              "      <th>...</th>\n",
              "      <th>x_094</th>\n",
              "      <th>x_095</th>\n",
              "      <th>x_096</th>\n",
              "      <th>x_097</th>\n",
              "      <th>x_098</th>\n",
              "      <th>x_099</th>\n",
              "      <th>x_100</th>\n",
              "      <th>water</th>\n",
              "      <th>fat</th>\n",
              "      <th>protein</th>\n",
              "    </tr>\n",
              "  </thead>\n",
              "  <tbody>\n",
              "    <tr>\n",
              "      <th>0</th>\n",
              "      <td>2.61776</td>\n",
              "      <td>2.61814</td>\n",
              "      <td>2.61859</td>\n",
              "      <td>2.61912</td>\n",
              "      <td>2.61981</td>\n",
              "      <td>2.62071</td>\n",
              "      <td>2.62186</td>\n",
              "      <td>2.62334</td>\n",
              "      <td>2.62511</td>\n",
              "      <td>2.62722</td>\n",
              "      <td>...</td>\n",
              "      <td>2.94013</td>\n",
              "      <td>2.91978</td>\n",
              "      <td>2.89966</td>\n",
              "      <td>2.87964</td>\n",
              "      <td>2.85960</td>\n",
              "      <td>2.83940</td>\n",
              "      <td>2.81920</td>\n",
              "      <td>60.5</td>\n",
              "      <td>22.5</td>\n",
              "      <td>16.7</td>\n",
              "    </tr>\n",
              "    <tr>\n",
              "      <th>1</th>\n",
              "      <td>2.83454</td>\n",
              "      <td>2.83871</td>\n",
              "      <td>2.84283</td>\n",
              "      <td>2.84705</td>\n",
              "      <td>2.85138</td>\n",
              "      <td>2.85587</td>\n",
              "      <td>2.86060</td>\n",
              "      <td>2.86566</td>\n",
              "      <td>2.87093</td>\n",
              "      <td>2.87661</td>\n",
              "      <td>...</td>\n",
              "      <td>3.26655</td>\n",
              "      <td>3.25369</td>\n",
              "      <td>3.24045</td>\n",
              "      <td>3.22659</td>\n",
              "      <td>3.21181</td>\n",
              "      <td>3.19600</td>\n",
              "      <td>3.17942</td>\n",
              "      <td>46.0</td>\n",
              "      <td>40.1</td>\n",
              "      <td>13.5</td>\n",
              "    </tr>\n",
              "    <tr>\n",
              "      <th>2</th>\n",
              "      <td>2.58284</td>\n",
              "      <td>2.58458</td>\n",
              "      <td>2.58629</td>\n",
              "      <td>2.58808</td>\n",
              "      <td>2.58996</td>\n",
              "      <td>2.59192</td>\n",
              "      <td>2.59401</td>\n",
              "      <td>2.59627</td>\n",
              "      <td>2.59873</td>\n",
              "      <td>2.60131</td>\n",
              "      <td>...</td>\n",
              "      <td>2.65112</td>\n",
              "      <td>2.63262</td>\n",
              "      <td>2.61461</td>\n",
              "      <td>2.59718</td>\n",
              "      <td>2.58034</td>\n",
              "      <td>2.56404</td>\n",
              "      <td>2.54816</td>\n",
              "      <td>71.0</td>\n",
              "      <td>8.4</td>\n",
              "      <td>20.5</td>\n",
              "    </tr>\n",
              "    <tr>\n",
              "      <th>3</th>\n",
              "      <td>2.82286</td>\n",
              "      <td>2.82460</td>\n",
              "      <td>2.82630</td>\n",
              "      <td>2.82814</td>\n",
              "      <td>2.83001</td>\n",
              "      <td>2.83192</td>\n",
              "      <td>2.83392</td>\n",
              "      <td>2.83606</td>\n",
              "      <td>2.83842</td>\n",
              "      <td>2.84097</td>\n",
              "      <td>...</td>\n",
              "      <td>2.92576</td>\n",
              "      <td>2.90251</td>\n",
              "      <td>2.87988</td>\n",
              "      <td>2.85794</td>\n",
              "      <td>2.83672</td>\n",
              "      <td>2.81617</td>\n",
              "      <td>2.79622</td>\n",
              "      <td>72.8</td>\n",
              "      <td>5.9</td>\n",
              "      <td>20.7</td>\n",
              "    </tr>\n",
              "    <tr>\n",
              "      <th>4</th>\n",
              "      <td>2.78813</td>\n",
              "      <td>2.78989</td>\n",
              "      <td>2.79167</td>\n",
              "      <td>2.79350</td>\n",
              "      <td>2.79538</td>\n",
              "      <td>2.79746</td>\n",
              "      <td>2.79984</td>\n",
              "      <td>2.80254</td>\n",
              "      <td>2.80553</td>\n",
              "      <td>2.80890</td>\n",
              "      <td>...</td>\n",
              "      <td>3.25831</td>\n",
              "      <td>3.23784</td>\n",
              "      <td>3.21765</td>\n",
              "      <td>3.19766</td>\n",
              "      <td>3.17770</td>\n",
              "      <td>3.15770</td>\n",
              "      <td>3.13753</td>\n",
              "      <td>58.3</td>\n",
              "      <td>25.5</td>\n",
              "      <td>15.5</td>\n",
              "    </tr>\n",
              "    <tr>\n",
              "      <th>...</th>\n",
              "      <td>...</td>\n",
              "      <td>...</td>\n",
              "      <td>...</td>\n",
              "      <td>...</td>\n",
              "      <td>...</td>\n",
              "      <td>...</td>\n",
              "      <td>...</td>\n",
              "      <td>...</td>\n",
              "      <td>...</td>\n",
              "      <td>...</td>\n",
              "      <td>...</td>\n",
              "      <td>...</td>\n",
              "      <td>...</td>\n",
              "      <td>...</td>\n",
              "      <td>...</td>\n",
              "      <td>...</td>\n",
              "      <td>...</td>\n",
              "      <td>...</td>\n",
              "      <td>...</td>\n",
              "      <td>...</td>\n",
              "      <td>...</td>\n",
              "    </tr>\n",
              "    <tr>\n",
              "      <th>210</th>\n",
              "      <td>3.14626</td>\n",
              "      <td>3.15166</td>\n",
              "      <td>3.15703</td>\n",
              "      <td>3.16244</td>\n",
              "      <td>3.16791</td>\n",
              "      <td>3.17348</td>\n",
              "      <td>3.17923</td>\n",
              "      <td>3.18521</td>\n",
              "      <td>3.19140</td>\n",
              "      <td>3.19792</td>\n",
              "      <td>...</td>\n",
              "      <td>3.57915</td>\n",
              "      <td>3.56142</td>\n",
              "      <td>3.54365</td>\n",
              "      <td>3.52563</td>\n",
              "      <td>3.50705</td>\n",
              "      <td>3.48765</td>\n",
              "      <td>3.46769</td>\n",
              "      <td>53.4</td>\n",
              "      <td>31.3</td>\n",
              "      <td>15.3</td>\n",
              "    </tr>\n",
              "    <tr>\n",
              "      <th>211</th>\n",
              "      <td>2.57992</td>\n",
              "      <td>2.58040</td>\n",
              "      <td>2.58099</td>\n",
              "      <td>2.58175</td>\n",
              "      <td>2.58266</td>\n",
              "      <td>2.58381</td>\n",
              "      <td>2.58530</td>\n",
              "      <td>2.58719</td>\n",
              "      <td>2.58949</td>\n",
              "      <td>2.59225</td>\n",
              "      <td>...</td>\n",
              "      <td>2.92062</td>\n",
              "      <td>2.90367</td>\n",
              "      <td>2.88668</td>\n",
              "      <td>2.86951</td>\n",
              "      <td>2.85180</td>\n",
              "      <td>2.83347</td>\n",
              "      <td>2.81473</td>\n",
              "      <td>51.6</td>\n",
              "      <td>33.8</td>\n",
              "      <td>13.8</td>\n",
              "    </tr>\n",
              "    <tr>\n",
              "      <th>212</th>\n",
              "      <td>2.56875</td>\n",
              "      <td>2.56923</td>\n",
              "      <td>2.56985</td>\n",
              "      <td>2.57060</td>\n",
              "      <td>2.57150</td>\n",
              "      <td>2.57268</td>\n",
              "      <td>2.57420</td>\n",
              "      <td>2.57610</td>\n",
              "      <td>2.57841</td>\n",
              "      <td>2.58129</td>\n",
              "      <td>...</td>\n",
              "      <td>2.91592</td>\n",
              "      <td>2.89952</td>\n",
              "      <td>2.88291</td>\n",
              "      <td>2.86595</td>\n",
              "      <td>2.84836</td>\n",
              "      <td>2.82998</td>\n",
              "      <td>2.81111</td>\n",
              "      <td>50.3</td>\n",
              "      <td>35.5</td>\n",
              "      <td>13.2</td>\n",
              "    </tr>\n",
              "    <tr>\n",
              "      <th>213</th>\n",
              "      <td>2.65884</td>\n",
              "      <td>2.65943</td>\n",
              "      <td>2.66023</td>\n",
              "      <td>2.66108</td>\n",
              "      <td>2.66215</td>\n",
              "      <td>2.66360</td>\n",
              "      <td>2.66550</td>\n",
              "      <td>2.66787</td>\n",
              "      <td>2.67070</td>\n",
              "      <td>2.67405</td>\n",
              "      <td>...</td>\n",
              "      <td>3.01851</td>\n",
              "      <td>3.00327</td>\n",
              "      <td>2.98759</td>\n",
              "      <td>2.97121</td>\n",
              "      <td>2.95374</td>\n",
              "      <td>2.93514</td>\n",
              "      <td>2.91564</td>\n",
              "      <td>44.9</td>\n",
              "      <td>42.5</td>\n",
              "      <td>12.0</td>\n",
              "    </tr>\n",
              "    <tr>\n",
              "      <th>214</th>\n",
              "      <td>2.89064</td>\n",
              "      <td>2.89244</td>\n",
              "      <td>2.89438</td>\n",
              "      <td>2.89659</td>\n",
              "      <td>2.89913</td>\n",
              "      <td>2.90211</td>\n",
              "      <td>2.90566</td>\n",
              "      <td>2.90982</td>\n",
              "      <td>2.91468</td>\n",
              "      <td>2.92031</td>\n",
              "      <td>...</td>\n",
              "      <td>3.46234</td>\n",
              "      <td>3.44632</td>\n",
              "      <td>3.42949</td>\n",
              "      <td>3.41136</td>\n",
              "      <td>3.39146</td>\n",
              "      <td>3.36959</td>\n",
              "      <td>3.34622</td>\n",
              "      <td>41.0</td>\n",
              "      <td>47.8</td>\n",
              "      <td>11.6</td>\n",
              "    </tr>\n",
              "  </tbody>\n",
              "</table>\n",
              "<p>215 rows × 103 columns</p>\n",
              "</div>\n",
              "      <button class=\"colab-df-convert\" onclick=\"convertToInteractive('df-cf558fa8-9f49-4101-805d-faf4442d3c1b')\"\n",
              "              title=\"Convert this dataframe to an interactive table.\"\n",
              "              style=\"display:none;\">\n",
              "        \n",
              "  <svg xmlns=\"http://www.w3.org/2000/svg\" height=\"24px\"viewBox=\"0 0 24 24\"\n",
              "       width=\"24px\">\n",
              "    <path d=\"M0 0h24v24H0V0z\" fill=\"none\"/>\n",
              "    <path d=\"M18.56 5.44l.94 2.06.94-2.06 2.06-.94-2.06-.94-.94-2.06-.94 2.06-2.06.94zm-11 1L8.5 8.5l.94-2.06 2.06-.94-2.06-.94L8.5 2.5l-.94 2.06-2.06.94zm10 10l.94 2.06.94-2.06 2.06-.94-2.06-.94-.94-2.06-.94 2.06-2.06.94z\"/><path d=\"M17.41 7.96l-1.37-1.37c-.4-.4-.92-.59-1.43-.59-.52 0-1.04.2-1.43.59L10.3 9.45l-7.72 7.72c-.78.78-.78 2.05 0 2.83L4 21.41c.39.39.9.59 1.41.59.51 0 1.02-.2 1.41-.59l7.78-7.78 2.81-2.81c.8-.78.8-2.07 0-2.86zM5.41 20L4 18.59l7.72-7.72 1.47 1.35L5.41 20z\"/>\n",
              "  </svg>\n",
              "      </button>\n",
              "      \n",
              "  <style>\n",
              "    .colab-df-container {\n",
              "      display:flex;\n",
              "      flex-wrap:wrap;\n",
              "      gap: 12px;\n",
              "    }\n",
              "\n",
              "    .colab-df-convert {\n",
              "      background-color: #E8F0FE;\n",
              "      border: none;\n",
              "      border-radius: 50%;\n",
              "      cursor: pointer;\n",
              "      display: none;\n",
              "      fill: #1967D2;\n",
              "      height: 32px;\n",
              "      padding: 0 0 0 0;\n",
              "      width: 32px;\n",
              "    }\n",
              "\n",
              "    .colab-df-convert:hover {\n",
              "      background-color: #E2EBFA;\n",
              "      box-shadow: 0px 1px 2px rgba(60, 64, 67, 0.3), 0px 1px 3px 1px rgba(60, 64, 67, 0.15);\n",
              "      fill: #174EA6;\n",
              "    }\n",
              "\n",
              "    [theme=dark] .colab-df-convert {\n",
              "      background-color: #3B4455;\n",
              "      fill: #D2E3FC;\n",
              "    }\n",
              "\n",
              "    [theme=dark] .colab-df-convert:hover {\n",
              "      background-color: #434B5C;\n",
              "      box-shadow: 0px 1px 3px 1px rgba(0, 0, 0, 0.15);\n",
              "      filter: drop-shadow(0px 1px 2px rgba(0, 0, 0, 0.3));\n",
              "      fill: #FFFFFF;\n",
              "    }\n",
              "  </style>\n",
              "\n",
              "      <script>\n",
              "        const buttonEl =\n",
              "          document.querySelector('#df-cf558fa8-9f49-4101-805d-faf4442d3c1b button.colab-df-convert');\n",
              "        buttonEl.style.display =\n",
              "          google.colab.kernel.accessAllowed ? 'block' : 'none';\n",
              "\n",
              "        async function convertToInteractive(key) {\n",
              "          const element = document.querySelector('#df-cf558fa8-9f49-4101-805d-faf4442d3c1b');\n",
              "          const dataTable =\n",
              "            await google.colab.kernel.invokeFunction('convertToInteractive',\n",
              "                                                     [key], {});\n",
              "          if (!dataTable) return;\n",
              "\n",
              "          const docLinkHtml = 'Like what you see? Visit the ' +\n",
              "            '<a target=\"_blank\" href=https://colab.research.google.com/notebooks/data_table.ipynb>data table notebook</a>'\n",
              "            + ' to learn more about interactive tables.';\n",
              "          element.innerHTML = '';\n",
              "          dataTable['output_type'] = 'display_data';\n",
              "          await google.colab.output.renderOutput(dataTable, element);\n",
              "          const docLink = document.createElement('div');\n",
              "          docLink.innerHTML = docLinkHtml;\n",
              "          element.appendChild(docLink);\n",
              "        }\n",
              "      </script>\n",
              "    </div>\n",
              "  </div>\n",
              "  "
            ]
          },
          "metadata": {},
          "execution_count": 10
        }
      ],
      "source": [
        "# !pip install fsspec\n",
        "# !pip install s3fs\n",
        "# !pip install boto\n",
        "\n",
        "import pandas as pd\n",
        "import boto\n",
        "\n",
        "from math import sqrt\n",
        "from sklearn.metrics import mean_squared_error\n",
        "import matplotlib.pyplot as plt\n",
        "\n",
        "# import the csv file directly from an s3 bucket\n",
        "data = pd.read_csv('s3://articledatas3/meats.csv')\n",
        "data = data.drop('Unnamed: 0', axis = 1)\n",
        "data\n"
      ]
    },
    {
      "cell_type": "code",
      "source": [
        "spectra = data.iloc[0, 0:-3]"
      ],
      "metadata": {
        "id": "tqQAqiTflaGP"
      },
      "execution_count": null,
      "outputs": []
    },
    {
      "cell_type": "code",
      "source": [
        "pd.Series(spectra.values).plot()"
      ],
      "metadata": {
        "colab": {
          "base_uri": "https://localhost:8080/",
          "height": 282
        },
        "id": "_E8s8rJVl6UB",
        "outputId": "ce8b289c-07dc-44c3-867f-49322a9e091c"
      },
      "execution_count": null,
      "outputs": [
        {
          "output_type": "execute_result",
          "data": {
            "text/plain": [
              "<matplotlib.axes._subplots.AxesSubplot at 0x7ff1e79b1710>"
            ]
          },
          "metadata": {},
          "execution_count": 7
        },
        {
          "output_type": "display_data",
          "data": {
            "text/plain": [
              "<Figure size 432x288 with 1 Axes>"
            ],
            "image/png": "[encoded data removed]"
          },
          "metadata": {
            "needs_background": "light"
          }
        }
      ]
    },
    {
      "cell_type": "markdown",
      "source": [
        "# Prepare data for PLS modelling"
      ],
      "metadata": {
        "id": "SojMZuUdle3e"
      }
    },
    {
      "cell_type": "code",
      "source": [
        "# Split data in train, val, test\n",
        "meats_train = data.iloc[0:130,:]\n",
        "meats_val = data.iloc[130:175,:]\n",
        "meats_test = data.iloc[175:215,:]\n",
        "\n",
        "# Split the columns in X and Y\n",
        "X_colnames = data.columns[:-3]\n",
        "Y_colnames = data.columns[-3:]\n",
        "\n",
        "# Split each train, val and test into two arrays\n",
        "X_train = meats_train[X_colnames].values\n",
        "Y_train = meats_train[Y_colnames].values\n",
        "\n",
        "X_val = meats_val[X_colnames].values\n",
        "Y_val = meats_val[Y_colnames].values\n",
        "\n",
        "X_test = meats_test[X_colnames].values\n",
        "Y_test = meats_test[Y_colnames].values\n"
      ],
      "metadata": {
        "id": "6t0ImEpTlirJ"
      },
      "execution_count": null,
      "outputs": []
    },
    {
      "cell_type": "code",
      "source": [
        "from sklearn.cross_decomposition import PLSRegression\n",
        "my_plsr = PLSRegression(n_components=100, scale=True)\n",
        "my_plsr.fit(X_train, Y_train)"
      ],
      "metadata": {
        "colab": {
          "base_uri": "https://localhost:8080/"
        },
        "id": "kRCozRpYmb9z",
        "outputId": "e9f535aa-aec4-463f-ada0-8b53057e78a8"
      },
      "execution_count": null,
      "outputs": [
        {
          "output_type": "execute_result",
          "data": {
            "text/plain": [
              "PLSRegression(n_components=100)"
            ]
          },
          "metadata": {},
          "execution_count": 9
        }
      ]
    },
    {
      "cell_type": "code",
      "source": [
        "mean_squared_error(my_plsr.predict(X_val), Y_val)"
      ],
      "metadata": {
        "colab": {
          "base_uri": "https://localhost:8080/"
        },
        "id": "MGstwWh6migl",
        "outputId": "5f01036b-d3e0-4d26-d507-96754aa5d506"
      },
      "execution_count": null,
      "outputs": [
        {
          "output_type": "execute_result",
          "data": {
            "text/plain": [
              "53.70552108166492"
            ]
          },
          "metadata": {},
          "execution_count": 11
        }
      ]
    },
    {
      "cell_type": "markdown",
      "source": [
        "# Checking number of components needed for PLS"
      ],
      "metadata": {
        "id": "hOMgJVZioZJ3"
      }
    },
    {
      "cell_type": "code",
      "source": [
        "\n",
        "# Compute the validation error for each n_comp \n",
        "water_plot = []\n",
        "fat_plot = []\n",
        "protein_plot = []\n",
        "\n",
        "for n_comp in range(1, 101):\n",
        "  my_plsr = PLSRegression(n_components=n_comp, scale=True)\n",
        "  my_plsr.fit(X_train, Y_train)\n",
        "  preds = my_plsr.predict(X_val)\n",
        "\n",
        "  water_rmse = sqrt(mean_squared_error(Y_val[:,0] ,preds[:,0]))\n",
        "  fat_rmse = sqrt(mean_squared_error(Y_val[:,1] ,preds[:,1]))\n",
        "  protein_rmse = sqrt(mean_squared_error(Y_val[:,2] ,preds[:,2]))\n",
        "  \n",
        "  water_plot.append( water_rmse)\n",
        "  fat_plot.append( fat_rmse)\n",
        "  protein_plot.append(protein_rmse)\n",
        "\n",
        "# Create the three plots using matplotlib\n",
        "fig, axs = plt.subplots(1,3)\n",
        "\n",
        "axs[0].plot(range(1, 101), water_plot)\n",
        "axs[1].plot(range(1, 101), fat_plot)\n",
        "axs[2].plot(range(1, 101), protein_plot)\n",
        "\n",
        "fig.show()"
      ],
      "metadata": {
        "colab": {
          "base_uri": "https://localhost:8080/",
          "height": 265
        },
        "id": "tLd1R-HTm4yT",
        "outputId": "24077592-ffea-4fff-bd0d-1661b2499cb3"
      },
      "execution_count": null,
      "outputs": [
        {
          "output_type": "display_data",
          "data": {
            "text/plain": [
              "<Figure size 432x288 with 3 Axes>"
            ],
            "image/png": "[encoded data removed]"
          },
          "metadata": {
            "needs_background": "light"
          }
        }
      ]
    },
    {
      "cell_type": "code",
      "source": [
        "# Coefficients Plot\n",
        "\n",
        "# fit and extract coefs for 1 comp\n",
        "my_plsr = PLSRegression(n_components=1, scale=True)\n",
        "my_plsr.fit(X_train, Y_train)\n",
        "\n",
        "water_1comp = my_plsr.coef_[:,0]\n",
        "fat_1comp = my_plsr.coef_[:,1]\n",
        "protein_1comp = my_plsr.coef_[:,2]\n",
        "\n",
        "\n",
        "# fit and extract coefs for 2 comps\n",
        "my_plsr = PLSRegression(n_components=2, scale=True)\n",
        "my_plsr.fit(X_train, Y_train)\n",
        "\n",
        "water_2comp = my_plsr.coef_[:,0]\n",
        "fat_2comp = my_plsr.coef_[:,1]\n",
        "protein_2comp = my_plsr.coef_[:,2]\n",
        "\n",
        "\n",
        "# fit and extract coefs for 3 comps\n",
        "my_plsr = PLSRegression(n_components=3, scale=True)\n",
        "my_plsr.fit(X_train, Y_train)\n",
        "\n",
        "water_3comp = my_plsr.coef_[:,0]\n",
        "fat_3comp = my_plsr.coef_[:,1]\n",
        "protein_3comp = my_plsr.coef_[:,2]\n",
        "\n",
        "\n",
        "# Plot in a graph for each y variable\n",
        "fig, axs = plt.subplots(1, 3)\n",
        "\n",
        "# water comps\n",
        "axs[0].plot(water_1comp)\n",
        "axs[0].plot(water_2comp)\n",
        "axs[0].plot(water_3comp)\n",
        "\n",
        "# fat comps\n",
        "axs[1].plot(fat_1comp)\n",
        "axs[1].plot(fat_2comp)\n",
        "axs[1].plot(fat_3comp)\n",
        "\n",
        "# protein comps\n",
        "axs[2].plot(protein_1comp)\n",
        "axs[2].plot(protein_2comp)\n",
        "axs[2].plot(protein_3comp)"
      ],
      "metadata": {
        "colab": {
          "base_uri": "https://localhost:8080/",
          "height": 283
        },
        "id": "-VqlEtwEnGwS",
        "outputId": "1e7d6c01-901b-4596-87c5-e14826372a87"
      },
      "execution_count": null,
      "outputs": [
        {
          "output_type": "execute_result",
          "data": {
            "text/plain": [
              "[<matplotlib.lines.Line2D at 0x7ff1d1300950>]"
            ]
          },
          "metadata": {},
          "execution_count": 13
        },
        {
          "output_type": "display_data",
          "data": {
            "text/plain": [
              "<Figure size 432x288 with 3 Axes>"
            ],
            "image/png": "[encoded data removed]"
          },
          "metadata": {
            "needs_background": "light"
          }
        }
      ]
    },
    {
      "cell_type": "code",
      "source": [
        "from sklearn.metrics import r2_score\n",
        "\n",
        "best_r2 = 0\n",
        "best_ncmop = 0\n",
        "for n_comp in range(1, 101):\n",
        "  my_plsr = PLSRegression(n_components=n_comp, scale=True)\n",
        "  my_plsr.fit(X_train, Y_train)\n",
        "  preds = my_plsr.predict(X_val)\n",
        "\n",
        "  r2 = r2_score(preds, Y_val)\n",
        "  if r2 > best_r2:\n",
        "    best_r2 = r2\n",
        "    best_ncomp = n_comp\n",
        "\n",
        "print(best_r2, best_ncomp)"
      ],
      "metadata": {
        "colab": {
          "base_uri": "https://localhost:8080/"
        },
        "id": "29hqq2nunbJL",
        "outputId": "ef577592-d2f3-447b-95fe-5d1cf4b55900"
      },
      "execution_count": null,
      "outputs": [
        {
          "output_type": "stream",
          "name": "stdout",
          "text": [
            "0.9431952353094332 15\n"
          ]
        }
      ]
    },
    {
      "cell_type": "markdown",
      "source": [
        "# Final evaluation of model performance"
      ],
      "metadata": {
        "id": "YC9sb-d1ogQH"
      }
    },
    {
      "cell_type": "code",
      "source": [
        "best_model = PLSRegression(n_components=best_ncomp, scale=True)\n",
        "best_model.fit(X_train, Y_train)\n",
        "test_preds = best_model.predict(X_test)\n",
        "print(r2_score(Y_test, test_preds))"
      ],
      "metadata": {
        "colab": {
          "base_uri": "https://localhost:8080/"
        },
        "id": "SxnjVuoVn3R9",
        "outputId": "2a353dc5-fde2-48a5-d973-11ad8bb921cb"
      },
      "execution_count": null,
      "outputs": [
        {
          "output_type": "stream",
          "name": "stdout",
          "text": [
            "0.9562812186452879\n"
          ]
        }
      ]
    },
    {
      "cell_type": "code",
      "source": [
        ""
      ],
      "metadata": {
        "id": "dEDntNTOoGcx"
      },
      "execution_count": null,
      "outputs": []
    }
  ]
}