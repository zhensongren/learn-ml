{
 "cells": [
  {
   "cell_type": "markdown",
   "id": "138780e6-ca82-4acc-b141-8e0e1808872d",
   "metadata": {},
   "source": [
    "KNN implementation in python\n",
    "\n",
    "Euclidean space is the length of a line segment between the two points. It can be calculated from the Cartesian coordinates of the points using the Pythagorean theorem"
   ]
  },
  {
   "cell_type": "code",
   "execution_count": 1,
   "id": "357047ef-4f90-4ec3-8a49-00a9578f1588",
   "metadata": {},
   "outputs": [],
   "source": [
    "import math\n",
    "from collections import Counter\n",
    "\n",
    "class KNN():\n",
    "    def __init__(self, k:int):\n",
    "        self.k = k\n",
    "        self.X = None\n",
    "        self.y = None\n",
    "        \n",
    "    def fit(self, X, y):\n",
    "        self.X = X\n",
    "        self.y = y\n",
    "        \n",
    "    def predit(self, X):\n",
    "        # store eucleandian distance to each of the training sample and its label\n",
    "        distance_label = []\n",
    "        for row, label in zip(self.X, self.y):\n",
    "            distance_label.append((self.euclidean_dist(row, X), label)) \n",
    "        distance_label.sort()\n",
    "        labels = [label for _, label in distance_label][:self.k]\n",
    "        return  Counter(labels).most_common(1)[0][0] # return the most frequent label\n",
    "#         return sum(labels)/self.k\n",
    "    def euclidean_dist(self, row1, row2):\n",
    "        res = 0\n",
    "\n",
    "        for x1, x2 in zip(row1, row2): # loop through each feature value for these two samples\n",
    "            res += (x1 - x2)**2\n",
    "\n",
    "        return math.sqrt(res)"
   ]
  },
  {
   "cell_type": "code",
   "execution_count": 2,
   "id": "63413ef4-4846-4cb8-858b-e665e6761b07",
   "metadata": {},
   "outputs": [],
   "source": [
    "X = [[1,3,4,5,2], [2,3,4,3,2], [1,3,6,5,2], [6,3,9,5,2]]\n",
    "y = [1,1,1,0]\n",
    "m = KNN(5)\n",
    "m.fit(X, y)"
   ]
  },
  {
   "cell_type": "code",
   "execution_count": 3,
   "id": "102a87ae-9ae7-43e9-9815-14beb93495e6",
   "metadata": {},
   "outputs": [
    {
     "data": {
      "text/plain": [
       "1"
      ]
     },
     "execution_count": 3,
     "metadata": {},
     "output_type": "execute_result"
    }
   ],
   "source": [
    "m.predit([1,1,1,1,1])"
   ]
  },
  {
   "cell_type": "code",
   "execution_count": null,
   "id": "edcc8132-65fd-4b0e-9213-c12dc08a5639",
   "metadata": {},
   "outputs": [],
   "source": []
  }
 ],
 "metadata": {
  "kernelspec": {
   "display_name": "Python 3",
   "language": "python",
   "name": "python3"
  },
  "language_info": {
   "codemirror_mode": {
    "name": "ipython",
    "version": 3
   },
   "file_extension": ".py",
   "mimetype": "text/x-python",
   "name": "python",
   "nbconvert_exporter": "python",
   "pygments_lexer": "ipython3",
   "version": "3.9.1"
  }
 },
 "nbformat": 4,
 "nbformat_minor": 5
}
