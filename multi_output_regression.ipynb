{
  "nbformat": 4,
  "nbformat_minor": 0,
  "metadata": {
    "colab": {
      "name": "multi-output regression.ipynb",
      "provenance": [],
      "toc_visible": true,
      "authorship_tag": "ABX9TyNEfvH+31/WS9Erw6d+csSO",
      "include_colab_link": true
    },
    "kernelspec": {
      "name": "python3",
      "display_name": "Python 3"
    },
    "language_info": {
      "name": "python"
    }
  },
  "cells": [
    {
      "cell_type": "markdown",
      "metadata": {
        "id": "view-in-github",
        "colab_type": "text"
      },
      "source": [
        "<a href=\"https://colab.research.google.com/github/zhensongren/learn-ml/blob/master/multi_output_regression.ipynb\" target=\"_parent\"><img src=\"https://colab.research.google.com/assets/colab-badge.svg\" alt=\"Open In Colab\"/></a>"
      ]
    },
    {
      "cell_type": "markdown",
      "source": [
        "# Import libraries and simulate input data"
      ],
      "metadata": {
        "id": "LeTMIhIl3DRQ"
      }
    },
    {
      "cell_type": "code",
      "execution_count": null,
      "metadata": {
        "colab": {
          "base_uri": "https://localhost:8080/"
        },
        "id": "KnxZGSp1yBXx",
        "outputId": "e2a1f2d5-2e4c-4371-df47-75ed4b128244"
      },
      "outputs": [
        {
          "output_type": "execute_result",
          "data": {
            "text/plain": [
              "array([[ 38.19768253,  23.41425082,  72.02700222],\n",
              "       [ -3.59886923, 113.8431764 , -26.09104728],\n",
              "       [309.54553436, 164.30758793, 183.95816511],\n",
              "       ...,\n",
              "       [186.48402065,  53.53872432,  90.95384241],\n",
              "       [ 63.83768848,  25.87637243,  85.08239269],\n",
              "       [276.61731597, 130.84468656, 105.49340764]])"
            ]
          },
          "metadata": {},
          "execution_count": 109
        }
      ],
      "source": [
        "# linear regression for multioutput regression\n",
        "from sklearn.datasets import make_regression\n",
        "from sklearn.tree import DecisionTreeRegressor\n",
        "from sklearn.linear_model import LinearRegression\n",
        "from sklearn.neighbors import KNeighborsRegressor\n",
        "\n",
        "from numpy import absolute\n",
        "from numpy import mean\n",
        "from numpy import std\n",
        "\n",
        "from sklearn.model_selection import RepeatedKFold\n",
        "from sklearn.multioutput import RegressorChain\n",
        "from sklearn.multioutput import MultiOutputRegressor\n",
        "from sklearn.svm import LinearSVR\n",
        "from sklearn.model_selection import cross_val_score\n",
        "# define the evaluation procedure\n",
        "cv = RepeatedKFold(n_splits=10, n_repeats=3, random_state=1)\n",
        "# create datasets\n",
        "X, y = make_regression(n_samples=1000, n_features=10, n_informative=5, n_targets=3, random_state=1, noise=0.5)\n",
        "y"
      ]
    },
    {
      "cell_type": "code",
      "source": [
        "y[:,2] = 3*y[:,0] + 5 \n",
        "y[:,1] = 9*y[:,2] + 5 \n",
        "\n",
        "y"
      ],
      "metadata": {
        "colab": {
          "base_uri": "https://localhost:8080/"
        },
        "id": "SMyoWVpVyNhu",
        "outputId": "7b7b1222-188f-493d-bba2-e1dab815ef83"
      },
      "execution_count": null,
      "outputs": [
        {
          "output_type": "execute_result",
          "data": {
            "text/plain": [
              "array([[ 3.81976825e+01,  1.08133743e+03,  1.19593048e+02],\n",
              "       [-3.59886923e+00, -4.71694693e+01, -5.79660770e+00],\n",
              "       [ 3.09545534e+02,  8.40772943e+03,  9.33636603e+02],\n",
              "       ...,\n",
              "       [ 1.86484021e+02,  5.08506856e+03,  5.64452062e+02],\n",
              "       [ 6.38376885e+01,  1.77361759e+03,  1.96513065e+02],\n",
              "       [ 2.76617316e+02,  7.51866753e+03,  8.34851948e+02]])"
            ]
          },
          "metadata": {},
          "execution_count": 110
        }
      ]
    },
    {
      "cell_type": "markdown",
      "source": [
        "# Cross-validated model results"
      ],
      "metadata": {
        "id": "HJEcrMVU3O3z"
      }
    },
    {
      "cell_type": "markdown",
      "source": [
        "## LR"
      ],
      "metadata": {
        "id": "rIKlxYK43o2S"
      }
    },
    {
      "cell_type": "code",
      "source": [
        "# define model\n",
        "model = LinearRegression()\n",
        "# fit model\n",
        "model.fit(X, y)\n",
        "# make a prediction\n",
        "row = [0.21947749, 0.32948997, 0.81560036, 0.440956, -0.0606303, -0.29257894, -0.2820059, -0.00290545, 0.96402263, 0.04992249]\n",
        "yhat = model.predict([row])\n",
        "# summarize prediction\n",
        "print(yhat[0])"
      ],
      "metadata": {
        "colab": {
          "base_uri": "https://localhost:8080/"
        },
        "id": "zVPUZ8BNyPvy",
        "outputId": "ba8f3912-5093-440d-c316-9d83075c2cf0"
      },
      "execution_count": null,
      "outputs": [
        {
          "output_type": "stream",
          "name": "stdout",
          "text": [
            "[  64.61034995 1794.47944869  198.83104985]\n"
          ]
        }
      ]
    },
    {
      "cell_type": "code",
      "source": [
        "# evaluate the model and collect the scores\n",
        "n_scores = cross_val_score(model, X, y, scoring='neg_mean_absolute_error', cv=cv, n_jobs=-1)\n",
        "# force the scores to be positive\n",
        "n_scores = absolute(n_scores)\n",
        "# summarize performance\n",
        "print('MAE: %.3f (%.3f)' % (mean(n_scores), std(n_scores)))"
      ],
      "metadata": {
        "colab": {
          "base_uri": "https://localhost:8080/"
        },
        "id": "AFc5lbt43bg1",
        "outputId": "270e06ef-7c94-4c95-c137-a9f03dc2b11e"
      },
      "execution_count": null,
      "outputs": [
        {
          "output_type": "stream",
          "name": "stdout",
          "text": [
            "MAE: 4.050 (0.273)\n"
          ]
        }
      ]
    },
    {
      "cell_type": "markdown",
      "source": [
        "## KNN"
      ],
      "metadata": {
        "id": "9tKS0nOL3t0-"
      }
    },
    {
      "cell_type": "code",
      "source": [
        "# k-nearest neighbors for multioutput regression\n",
        "# define model\n",
        "model = KNeighborsRegressor()\n",
        "# fit model\n",
        "model.fit(X, y)\n",
        "# make a prediction\n",
        "row = [0.21947749, 0.32948997, 0.81560036, 0.440956, -0.0606303, -0.29257894, -0.2820059, -0.00290545, 0.96402263, 0.04992249]\n",
        "yhat = model.predict([row])\n",
        "# summarize prediction\n",
        "print(yhat[0])"
      ],
      "metadata": {
        "colab": {
          "base_uri": "https://localhost:8080/"
        },
        "id": "JEn2KFL9z16O",
        "outputId": "db0e9e16-97a6-4c9b-ebdf-05542143e8df"
      },
      "execution_count": null,
      "outputs": [
        {
          "output_type": "stream",
          "name": "stdout",
          "text": [
            "[ 0.56062403 65.13684884  6.68187209]\n"
          ]
        }
      ]
    },
    {
      "cell_type": "code",
      "source": [
        "# evaluate the model and collect the scores\n",
        "n_scores = cross_val_score(model, X, y, scoring='neg_mean_absolute_error', cv=cv, n_jobs=-1)\n",
        "# force the scores to be positive\n",
        "n_scores = absolute(n_scores)\n",
        "# summarize performance\n",
        "print('MAE: %.3f (%.3f)' % (mean(n_scores), std(n_scores)))"
      ],
      "metadata": {
        "colab": {
          "base_uri": "https://localhost:8080/"
        },
        "id": "9LTZ1tWD3exS",
        "outputId": "7eb455ed-4491-436a-c7f9-505a249b620a"
      },
      "execution_count": null,
      "outputs": [
        {
          "output_type": "stream",
          "name": "stdout",
          "text": [
            "MAE: 536.078 (46.206)\n"
          ]
        }
      ]
    },
    {
      "cell_type": "markdown",
      "source": [
        "DecisionTreeRegressor"
      ],
      "metadata": {
        "id": "TUUI1iqz1feK"
      }
    },
    {
      "cell_type": "code",
      "source": [
        "# define model\n",
        "model = DecisionTreeRegressor()\n",
        "# evaluate the model and collect the scores\n",
        "n_scores = cross_val_score(model, X, y, scoring='neg_mean_absolute_error', cv=cv, n_jobs=-1)\n",
        "# force the scores to be positive\n",
        "n_scores = absolute(n_scores)\n",
        "# summarize performance\n",
        "print('MAE: %.3f (%.3f)' % (mean(n_scores), std(n_scores)))"
      ],
      "metadata": {
        "colab": {
          "base_uri": "https://localhost:8080/"
        },
        "id": "xQeVKX77z4iF",
        "outputId": "edbdbb6b-6909-4105-f042-8f8270e259dc"
      },
      "execution_count": null,
      "outputs": [
        {
          "output_type": "stream",
          "name": "stdout",
          "text": [
            "MAE: 577.021 (50.720)\n"
          ]
        }
      ]
    },
    {
      "cell_type": "markdown",
      "source": [
        "## Use MultiOutputRegressor with LinearSVR"
      ],
      "metadata": {
        "id": "aZqi93A418XL"
      }
    },
    {
      "cell_type": "code",
      "source": [
        "# define base model\n",
        "model = LinearSVR()\n",
        "# define the direct multioutput wrapper model\n",
        "wrapper = MultiOutputRegressor(model)\n",
        "# evaluate the model and collect the scores\n",
        "n_scores = cross_val_score(wrapper, X, y, scoring='neg_mean_absolute_error', cv=cv, n_jobs=-1)\n",
        "# force the scores to be positive\n",
        "n_scores = absolute(n_scores)\n",
        "# summarize performance\n",
        "print('MAE: %.3f (%.3f)' % (mean(n_scores), std(n_scores)))"
      ],
      "metadata": {
        "colab": {
          "base_uri": "https://localhost:8080/"
        },
        "id": "2hPk2cbH0Llb",
        "outputId": "7ead94d7-e132-4249-ff39-75d4fa9d9979"
      },
      "execution_count": null,
      "outputs": [
        {
          "output_type": "stream",
          "name": "stdout",
          "text": [
            "MAE: 903.091 (87.952)\n"
          ]
        }
      ]
    },
    {
      "cell_type": "markdown",
      "source": [
        "## Use RegressorChain, LinearSVR and specify order of prediction"
      ],
      "metadata": {
        "id": "pekAn4zy2Pmw"
      }
    },
    {
      "cell_type": "code",
      "source": [
        "# example of evaluating chained multioutput regression with an SVM model\n",
        "# define base model\n",
        "model = LinearSVR()\n",
        "# define the chained multioutput wrapper model\n",
        "wrapper = RegressorChain(model)\n",
        "\n",
        "# evaluate the model and collect the scores\n",
        "n_scores = cross_val_score(wrapper, X, y, scoring='neg_mean_absolute_error', cv=cv, n_jobs=-1)\n",
        "# force the scores to be positive\n",
        "n_scores = absolute(n_scores)\n",
        "# summarize performance\n",
        "print('MAE: %.3f (%.3f)' % (mean(n_scores), std(n_scores)))"
      ],
      "metadata": {
        "colab": {
          "base_uri": "https://localhost:8080/"
        },
        "id": "o2do702A2UCH",
        "outputId": "dd76b7e5-c12c-4d02-e147-fcbadd6233d0"
      },
      "execution_count": null,
      "outputs": [
        {
          "output_type": "stream",
          "name": "stdout",
          "text": [
            "MAE: 4.167 (0.273)\n"
          ]
        }
      ]
    },
    {
      "cell_type": "markdown",
      "source": [
        "### Chained LinearRegression"
      ],
      "metadata": {
        "id": "b_HMIhdg6qHt"
      }
    },
    {
      "cell_type": "code",
      "source": [
        "# define base model\n",
        "model = LinearRegression()\n",
        "# define the chained multioutput wrapper model\n",
        "wrapper = RegressorChain(model)\n",
        "\n",
        "# evaluate the model and collect the scores\n",
        "n_scores = cross_val_score(wrapper, X, y, scoring='neg_mean_absolute_error', cv=cv, n_jobs=-1)\n",
        "# force the scores to be positive\n",
        "n_scores = absolute(n_scores)\n",
        "# summarize performance\n",
        "print('MAE: %.3f (%.3f)' % (mean(n_scores), std(n_scores)))"
      ],
      "metadata": {
        "colab": {
          "base_uri": "https://localhost:8080/"
        },
        "id": "n6HBrj1P6pv4",
        "outputId": "17ab6cc7-3144-460b-d345-5f1f770a2b34"
      },
      "execution_count": null,
      "outputs": [
        {
          "output_type": "stream",
          "name": "stdout",
          "text": [
            "MAE: 4.050 (0.273)\n"
          ]
        }
      ]
    },
    {
      "cell_type": "code",
      "source": [
        ""
      ],
      "metadata": {
        "id": "zohZISEt6uIU"
      },
      "execution_count": null,
      "outputs": []
    }
  ]
}